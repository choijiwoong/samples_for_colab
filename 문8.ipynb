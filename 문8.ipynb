{
  "nbformat": 4,
  "nbformat_minor": 0,
  "metadata": {
    "colab": {
      "name": "문8.ipynb",
      "provenance": [],
      "collapsed_sections": [],
      "authorship_tag": "ABX9TyMlqceURJnlEjkuH2ax68Bi",
      "include_colab_link": true
    },
    "kernelspec": {
      "name": "python3",
      "display_name": "Python 3"
    },
    "language_info": {
      "name": "python"
    },
    "accelerator": "GPU",
    "gpuClass": "standard",
    "widgets": {
      "application/vnd.jupyter.widget-state+json": {
        "cb55bb01659d4092be04142c1060e3a7": {
          "model_module": "@jupyter-widgets/controls",
          "model_name": "HBoxModel",
          "model_module_version": "1.5.0",
          "state": {
            "_dom_classes": [],
            "_model_module": "@jupyter-widgets/controls",
            "_model_module_version": "1.5.0",
            "_model_name": "HBoxModel",
            "_view_count": null,
            "_view_module": "@jupyter-widgets/controls",
            "_view_module_version": "1.5.0",
            "_view_name": "HBoxView",
            "box_style": "",
            "children": [
              "IPY_MODEL_0a227e0392e5429680e6a9f3df235474",
              "IPY_MODEL_b5c21e90cebe4fb188ee667252ab71ef",
              "IPY_MODEL_e96aa497ce094ceeb9359c00a7fb913c"
            ],
            "layout": "IPY_MODEL_7c0668f4feef44f19a11b872def971b5"
          }
        },
        "0a227e0392e5429680e6a9f3df235474": {
          "model_module": "@jupyter-widgets/controls",
          "model_name": "HTMLModel",
          "model_module_version": "1.5.0",
          "state": {
            "_dom_classes": [],
            "_model_module": "@jupyter-widgets/controls",
            "_model_module_version": "1.5.0",
            "_model_name": "HTMLModel",
            "_view_count": null,
            "_view_module": "@jupyter-widgets/controls",
            "_view_module_version": "1.5.0",
            "_view_name": "HTMLView",
            "description": "",
            "description_tooltip": null,
            "layout": "IPY_MODEL_038f2cafad204a5bb5f347229b8cb41c",
            "placeholder": "​",
            "style": "IPY_MODEL_d12f36987d2b4073aaf925b434c62ee4",
            "value": "100%"
          }
        },
        "b5c21e90cebe4fb188ee667252ab71ef": {
          "model_module": "@jupyter-widgets/controls",
          "model_name": "FloatProgressModel",
          "model_module_version": "1.5.0",
          "state": {
            "_dom_classes": [],
            "_model_module": "@jupyter-widgets/controls",
            "_model_module_version": "1.5.0",
            "_model_name": "FloatProgressModel",
            "_view_count": null,
            "_view_module": "@jupyter-widgets/controls",
            "_view_module_version": "1.5.0",
            "_view_name": "ProgressView",
            "bar_style": "success",
            "description": "",
            "description_tooltip": null,
            "layout": "IPY_MODEL_43950fb0ba1f42b8a6638c4c574f5bab",
            "max": 9912422,
            "min": 0,
            "orientation": "horizontal",
            "style": "IPY_MODEL_dcf18fed7641476ab6fb16df846290bb",
            "value": 9912422
          }
        },
        "e96aa497ce094ceeb9359c00a7fb913c": {
          "model_module": "@jupyter-widgets/controls",
          "model_name": "HTMLModel",
          "model_module_version": "1.5.0",
          "state": {
            "_dom_classes": [],
            "_model_module": "@jupyter-widgets/controls",
            "_model_module_version": "1.5.0",
            "_model_name": "HTMLModel",
            "_view_count": null,
            "_view_module": "@jupyter-widgets/controls",
            "_view_module_version": "1.5.0",
            "_view_name": "HTMLView",
            "description": "",
            "description_tooltip": null,
            "layout": "IPY_MODEL_2a05ca5f22ef48eda0a4b2dc6c661e48",
            "placeholder": "​",
            "style": "IPY_MODEL_9695650a50d04075b0ce4626cbfc01de",
            "value": " 9912422/9912422 [00:00&lt;00:00, 58976409.98it/s]"
          }
        },
        "7c0668f4feef44f19a11b872def971b5": {
          "model_module": "@jupyter-widgets/base",
          "model_name": "LayoutModel",
          "model_module_version": "1.2.0",
          "state": {
            "_model_module": "@jupyter-widgets/base",
            "_model_module_version": "1.2.0",
            "_model_name": "LayoutModel",
            "_view_count": null,
            "_view_module": "@jupyter-widgets/base",
            "_view_module_version": "1.2.0",
            "_view_name": "LayoutView",
            "align_content": null,
            "align_items": null,
            "align_self": null,
            "border": null,
            "bottom": null,
            "display": null,
            "flex": null,
            "flex_flow": null,
            "grid_area": null,
            "grid_auto_columns": null,
            "grid_auto_flow": null,
            "grid_auto_rows": null,
            "grid_column": null,
            "grid_gap": null,
            "grid_row": null,
            "grid_template_areas": null,
            "grid_template_columns": null,
            "grid_template_rows": null,
            "height": null,
            "justify_content": null,
            "justify_items": null,
            "left": null,
            "margin": null,
            "max_height": null,
            "max_width": null,
            "min_height": null,
            "min_width": null,
            "object_fit": null,
            "object_position": null,
            "order": null,
            "overflow": null,
            "overflow_x": null,
            "overflow_y": null,
            "padding": null,
            "right": null,
            "top": null,
            "visibility": null,
            "width": null
          }
        },
        "038f2cafad204a5bb5f347229b8cb41c": {
          "model_module": "@jupyter-widgets/base",
          "model_name": "LayoutModel",
          "model_module_version": "1.2.0",
          "state": {
            "_model_module": "@jupyter-widgets/base",
            "_model_module_version": "1.2.0",
            "_model_name": "LayoutModel",
            "_view_count": null,
            "_view_module": "@jupyter-widgets/base",
            "_view_module_version": "1.2.0",
            "_view_name": "LayoutView",
            "align_content": null,
            "align_items": null,
            "align_self": null,
            "border": null,
            "bottom": null,
            "display": null,
            "flex": null,
            "flex_flow": null,
            "grid_area": null,
            "grid_auto_columns": null,
            "grid_auto_flow": null,
            "grid_auto_rows": null,
            "grid_column": null,
            "grid_gap": null,
            "grid_row": null,
            "grid_template_areas": null,
            "grid_template_columns": null,
            "grid_template_rows": null,
            "height": null,
            "justify_content": null,
            "justify_items": null,
            "left": null,
            "margin": null,
            "max_height": null,
            "max_width": null,
            "min_height": null,
            "min_width": null,
            "object_fit": null,
            "object_position": null,
            "order": null,
            "overflow": null,
            "overflow_x": null,
            "overflow_y": null,
            "padding": null,
            "right": null,
            "top": null,
            "visibility": null,
            "width": null
          }
        },
        "d12f36987d2b4073aaf925b434c62ee4": {
          "model_module": "@jupyter-widgets/controls",
          "model_name": "DescriptionStyleModel",
          "model_module_version": "1.5.0",
          "state": {
            "_model_module": "@jupyter-widgets/controls",
            "_model_module_version": "1.5.0",
            "_model_name": "DescriptionStyleModel",
            "_view_count": null,
            "_view_module": "@jupyter-widgets/base",
            "_view_module_version": "1.2.0",
            "_view_name": "StyleView",
            "description_width": ""
          }
        },
        "43950fb0ba1f42b8a6638c4c574f5bab": {
          "model_module": "@jupyter-widgets/base",
          "model_name": "LayoutModel",
          "model_module_version": "1.2.0",
          "state": {
            "_model_module": "@jupyter-widgets/base",
            "_model_module_version": "1.2.0",
            "_model_name": "LayoutModel",
            "_view_count": null,
            "_view_module": "@jupyter-widgets/base",
            "_view_module_version": "1.2.0",
            "_view_name": "LayoutView",
            "align_content": null,
            "align_items": null,
            "align_self": null,
            "border": null,
            "bottom": null,
            "display": null,
            "flex": null,
            "flex_flow": null,
            "grid_area": null,
            "grid_auto_columns": null,
            "grid_auto_flow": null,
            "grid_auto_rows": null,
            "grid_column": null,
            "grid_gap": null,
            "grid_row": null,
            "grid_template_areas": null,
            "grid_template_columns": null,
            "grid_template_rows": null,
            "height": null,
            "justify_content": null,
            "justify_items": null,
            "left": null,
            "margin": null,
            "max_height": null,
            "max_width": null,
            "min_height": null,
            "min_width": null,
            "object_fit": null,
            "object_position": null,
            "order": null,
            "overflow": null,
            "overflow_x": null,
            "overflow_y": null,
            "padding": null,
            "right": null,
            "top": null,
            "visibility": null,
            "width": null
          }
        },
        "dcf18fed7641476ab6fb16df846290bb": {
          "model_module": "@jupyter-widgets/controls",
          "model_name": "ProgressStyleModel",
          "model_module_version": "1.5.0",
          "state": {
            "_model_module": "@jupyter-widgets/controls",
            "_model_module_version": "1.5.0",
            "_model_name": "ProgressStyleModel",
            "_view_count": null,
            "_view_module": "@jupyter-widgets/base",
            "_view_module_version": "1.2.0",
            "_view_name": "StyleView",
            "bar_color": null,
            "description_width": ""
          }
        },
        "2a05ca5f22ef48eda0a4b2dc6c661e48": {
          "model_module": "@jupyter-widgets/base",
          "model_name": "LayoutModel",
          "model_module_version": "1.2.0",
          "state": {
            "_model_module": "@jupyter-widgets/base",
            "_model_module_version": "1.2.0",
            "_model_name": "LayoutModel",
            "_view_count": null,
            "_view_module": "@jupyter-widgets/base",
            "_view_module_version": "1.2.0",
            "_view_name": "LayoutView",
            "align_content": null,
            "align_items": null,
            "align_self": null,
            "border": null,
            "bottom": null,
            "display": null,
            "flex": null,
            "flex_flow": null,
            "grid_area": null,
            "grid_auto_columns": null,
            "grid_auto_flow": null,
            "grid_auto_rows": null,
            "grid_column": null,
            "grid_gap": null,
            "grid_row": null,
            "grid_template_areas": null,
            "grid_template_columns": null,
            "grid_template_rows": null,
            "height": null,
            "justify_content": null,
            "justify_items": null,
            "left": null,
            "margin": null,
            "max_height": null,
            "max_width": null,
            "min_height": null,
            "min_width": null,
            "object_fit": null,
            "object_position": null,
            "order": null,
            "overflow": null,
            "overflow_x": null,
            "overflow_y": null,
            "padding": null,
            "right": null,
            "top": null,
            "visibility": null,
            "width": null
          }
        },
        "9695650a50d04075b0ce4626cbfc01de": {
          "model_module": "@jupyter-widgets/controls",
          "model_name": "DescriptionStyleModel",
          "model_module_version": "1.5.0",
          "state": {
            "_model_module": "@jupyter-widgets/controls",
            "_model_module_version": "1.5.0",
            "_model_name": "DescriptionStyleModel",
            "_view_count": null,
            "_view_module": "@jupyter-widgets/base",
            "_view_module_version": "1.2.0",
            "_view_name": "StyleView",
            "description_width": ""
          }
        },
        "544352f7164e49bf8ab6be2a295e35ce": {
          "model_module": "@jupyter-widgets/controls",
          "model_name": "HBoxModel",
          "model_module_version": "1.5.0",
          "state": {
            "_dom_classes": [],
            "_model_module": "@jupyter-widgets/controls",
            "_model_module_version": "1.5.0",
            "_model_name": "HBoxModel",
            "_view_count": null,
            "_view_module": "@jupyter-widgets/controls",
            "_view_module_version": "1.5.0",
            "_view_name": "HBoxView",
            "box_style": "",
            "children": [
              "IPY_MODEL_2b4c985821d74cb986d8178a6c5aba32",
              "IPY_MODEL_2804a218f7f04f1e98ede166bf0feed5",
              "IPY_MODEL_cfdda2fcc5fa45fa926e88f45629e5bf"
            ],
            "layout": "IPY_MODEL_c5ebb377a20f40b38e83aef5555fe0e3"
          }
        },
        "2b4c985821d74cb986d8178a6c5aba32": {
          "model_module": "@jupyter-widgets/controls",
          "model_name": "HTMLModel",
          "model_module_version": "1.5.0",
          "state": {
            "_dom_classes": [],
            "_model_module": "@jupyter-widgets/controls",
            "_model_module_version": "1.5.0",
            "_model_name": "HTMLModel",
            "_view_count": null,
            "_view_module": "@jupyter-widgets/controls",
            "_view_module_version": "1.5.0",
            "_view_name": "HTMLView",
            "description": "",
            "description_tooltip": null,
            "layout": "IPY_MODEL_a51c0ef2d1a54d458f9a5e4c134b2568",
            "placeholder": "​",
            "style": "IPY_MODEL_1f29110cea2744b39ccd86b1c7d6e081",
            "value": "100%"
          }
        },
        "2804a218f7f04f1e98ede166bf0feed5": {
          "model_module": "@jupyter-widgets/controls",
          "model_name": "FloatProgressModel",
          "model_module_version": "1.5.0",
          "state": {
            "_dom_classes": [],
            "_model_module": "@jupyter-widgets/controls",
            "_model_module_version": "1.5.0",
            "_model_name": "FloatProgressModel",
            "_view_count": null,
            "_view_module": "@jupyter-widgets/controls",
            "_view_module_version": "1.5.0",
            "_view_name": "ProgressView",
            "bar_style": "success",
            "description": "",
            "description_tooltip": null,
            "layout": "IPY_MODEL_627488e5906e45fca409345abfd9056a",
            "max": 28881,
            "min": 0,
            "orientation": "horizontal",
            "style": "IPY_MODEL_4c254021948844e8b5357d0f47b7b804",
            "value": 28881
          }
        },
        "cfdda2fcc5fa45fa926e88f45629e5bf": {
          "model_module": "@jupyter-widgets/controls",
          "model_name": "HTMLModel",
          "model_module_version": "1.5.0",
          "state": {
            "_dom_classes": [],
            "_model_module": "@jupyter-widgets/controls",
            "_model_module_version": "1.5.0",
            "_model_name": "HTMLModel",
            "_view_count": null,
            "_view_module": "@jupyter-widgets/controls",
            "_view_module_version": "1.5.0",
            "_view_name": "HTMLView",
            "description": "",
            "description_tooltip": null,
            "layout": "IPY_MODEL_9a49e12ffb814cb9ae07d985192d6b4e",
            "placeholder": "​",
            "style": "IPY_MODEL_5a453fb22fa948f3b0dbbb117a4d7321",
            "value": " 28881/28881 [00:00&lt;00:00, 376364.95it/s]"
          }
        },
        "c5ebb377a20f40b38e83aef5555fe0e3": {
          "model_module": "@jupyter-widgets/base",
          "model_name": "LayoutModel",
          "model_module_version": "1.2.0",
          "state": {
            "_model_module": "@jupyter-widgets/base",
            "_model_module_version": "1.2.0",
            "_model_name": "LayoutModel",
            "_view_count": null,
            "_view_module": "@jupyter-widgets/base",
            "_view_module_version": "1.2.0",
            "_view_name": "LayoutView",
            "align_content": null,
            "align_items": null,
            "align_self": null,
            "border": null,
            "bottom": null,
            "display": null,
            "flex": null,
            "flex_flow": null,
            "grid_area": null,
            "grid_auto_columns": null,
            "grid_auto_flow": null,
            "grid_auto_rows": null,
            "grid_column": null,
            "grid_gap": null,
            "grid_row": null,
            "grid_template_areas": null,
            "grid_template_columns": null,
            "grid_template_rows": null,
            "height": null,
            "justify_content": null,
            "justify_items": null,
            "left": null,
            "margin": null,
            "max_height": null,
            "max_width": null,
            "min_height": null,
            "min_width": null,
            "object_fit": null,
            "object_position": null,
            "order": null,
            "overflow": null,
            "overflow_x": null,
            "overflow_y": null,
            "padding": null,
            "right": null,
            "top": null,
            "visibility": null,
            "width": null
          }
        },
        "a51c0ef2d1a54d458f9a5e4c134b2568": {
          "model_module": "@jupyter-widgets/base",
          "model_name": "LayoutModel",
          "model_module_version": "1.2.0",
          "state": {
            "_model_module": "@jupyter-widgets/base",
            "_model_module_version": "1.2.0",
            "_model_name": "LayoutModel",
            "_view_count": null,
            "_view_module": "@jupyter-widgets/base",
            "_view_module_version": "1.2.0",
            "_view_name": "LayoutView",
            "align_content": null,
            "align_items": null,
            "align_self": null,
            "border": null,
            "bottom": null,
            "display": null,
            "flex": null,
            "flex_flow": null,
            "grid_area": null,
            "grid_auto_columns": null,
            "grid_auto_flow": null,
            "grid_auto_rows": null,
            "grid_column": null,
            "grid_gap": null,
            "grid_row": null,
            "grid_template_areas": null,
            "grid_template_columns": null,
            "grid_template_rows": null,
            "height": null,
            "justify_content": null,
            "justify_items": null,
            "left": null,
            "margin": null,
            "max_height": null,
            "max_width": null,
            "min_height": null,
            "min_width": null,
            "object_fit": null,
            "object_position": null,
            "order": null,
            "overflow": null,
            "overflow_x": null,
            "overflow_y": null,
            "padding": null,
            "right": null,
            "top": null,
            "visibility": null,
            "width": null
          }
        },
        "1f29110cea2744b39ccd86b1c7d6e081": {
          "model_module": "@jupyter-widgets/controls",
          "model_name": "DescriptionStyleModel",
          "model_module_version": "1.5.0",
          "state": {
            "_model_module": "@jupyter-widgets/controls",
            "_model_module_version": "1.5.0",
            "_model_name": "DescriptionStyleModel",
            "_view_count": null,
            "_view_module": "@jupyter-widgets/base",
            "_view_module_version": "1.2.0",
            "_view_name": "StyleView",
            "description_width": ""
          }
        },
        "627488e5906e45fca409345abfd9056a": {
          "model_module": "@jupyter-widgets/base",
          "model_name": "LayoutModel",
          "model_module_version": "1.2.0",
          "state": {
            "_model_module": "@jupyter-widgets/base",
            "_model_module_version": "1.2.0",
            "_model_name": "LayoutModel",
            "_view_count": null,
            "_view_module": "@jupyter-widgets/base",
            "_view_module_version": "1.2.0",
            "_view_name": "LayoutView",
            "align_content": null,
            "align_items": null,
            "align_self": null,
            "border": null,
            "bottom": null,
            "display": null,
            "flex": null,
            "flex_flow": null,
            "grid_area": null,
            "grid_auto_columns": null,
            "grid_auto_flow": null,
            "grid_auto_rows": null,
            "grid_column": null,
            "grid_gap": null,
            "grid_row": null,
            "grid_template_areas": null,
            "grid_template_columns": null,
            "grid_template_rows": null,
            "height": null,
            "justify_content": null,
            "justify_items": null,
            "left": null,
            "margin": null,
            "max_height": null,
            "max_width": null,
            "min_height": null,
            "min_width": null,
            "object_fit": null,
            "object_position": null,
            "order": null,
            "overflow": null,
            "overflow_x": null,
            "overflow_y": null,
            "padding": null,
            "right": null,
            "top": null,
            "visibility": null,
            "width": null
          }
        },
        "4c254021948844e8b5357d0f47b7b804": {
          "model_module": "@jupyter-widgets/controls",
          "model_name": "ProgressStyleModel",
          "model_module_version": "1.5.0",
          "state": {
            "_model_module": "@jupyter-widgets/controls",
            "_model_module_version": "1.5.0",
            "_model_name": "ProgressStyleModel",
            "_view_count": null,
            "_view_module": "@jupyter-widgets/base",
            "_view_module_version": "1.2.0",
            "_view_name": "StyleView",
            "bar_color": null,
            "description_width": ""
          }
        },
        "9a49e12ffb814cb9ae07d985192d6b4e": {
          "model_module": "@jupyter-widgets/base",
          "model_name": "LayoutModel",
          "model_module_version": "1.2.0",
          "state": {
            "_model_module": "@jupyter-widgets/base",
            "_model_module_version": "1.2.0",
            "_model_name": "LayoutModel",
            "_view_count": null,
            "_view_module": "@jupyter-widgets/base",
            "_view_module_version": "1.2.0",
            "_view_name": "LayoutView",
            "align_content": null,
            "align_items": null,
            "align_self": null,
            "border": null,
            "bottom": null,
            "display": null,
            "flex": null,
            "flex_flow": null,
            "grid_area": null,
            "grid_auto_columns": null,
            "grid_auto_flow": null,
            "grid_auto_rows": null,
            "grid_column": null,
            "grid_gap": null,
            "grid_row": null,
            "grid_template_areas": null,
            "grid_template_columns": null,
            "grid_template_rows": null,
            "height": null,
            "justify_content": null,
            "justify_items": null,
            "left": null,
            "margin": null,
            "max_height": null,
            "max_width": null,
            "min_height": null,
            "min_width": null,
            "object_fit": null,
            "object_position": null,
            "order": null,
            "overflow": null,
            "overflow_x": null,
            "overflow_y": null,
            "padding": null,
            "right": null,
            "top": null,
            "visibility": null,
            "width": null
          }
        },
        "5a453fb22fa948f3b0dbbb117a4d7321": {
          "model_module": "@jupyter-widgets/controls",
          "model_name": "DescriptionStyleModel",
          "model_module_version": "1.5.0",
          "state": {
            "_model_module": "@jupyter-widgets/controls",
            "_model_module_version": "1.5.0",
            "_model_name": "DescriptionStyleModel",
            "_view_count": null,
            "_view_module": "@jupyter-widgets/base",
            "_view_module_version": "1.2.0",
            "_view_name": "StyleView",
            "description_width": ""
          }
        },
        "49788cf699d045819a5c1f5f248ca98e": {
          "model_module": "@jupyter-widgets/controls",
          "model_name": "HBoxModel",
          "model_module_version": "1.5.0",
          "state": {
            "_dom_classes": [],
            "_model_module": "@jupyter-widgets/controls",
            "_model_module_version": "1.5.0",
            "_model_name": "HBoxModel",
            "_view_count": null,
            "_view_module": "@jupyter-widgets/controls",
            "_view_module_version": "1.5.0",
            "_view_name": "HBoxView",
            "box_style": "",
            "children": [
              "IPY_MODEL_34bd5859189848ab8e20bc4e660e995a",
              "IPY_MODEL_614a77f0ae664d5cac4d2e08f9ec1b1f",
              "IPY_MODEL_931f5edffacb4818aec5f93495921647"
            ],
            "layout": "IPY_MODEL_6ae2adfeeaa04dcd80f7f42de2b522e3"
          }
        },
        "34bd5859189848ab8e20bc4e660e995a": {
          "model_module": "@jupyter-widgets/controls",
          "model_name": "HTMLModel",
          "model_module_version": "1.5.0",
          "state": {
            "_dom_classes": [],
            "_model_module": "@jupyter-widgets/controls",
            "_model_module_version": "1.5.0",
            "_model_name": "HTMLModel",
            "_view_count": null,
            "_view_module": "@jupyter-widgets/controls",
            "_view_module_version": "1.5.0",
            "_view_name": "HTMLView",
            "description": "",
            "description_tooltip": null,
            "layout": "IPY_MODEL_586023954ba14ddf8245d86d34e36498",
            "placeholder": "​",
            "style": "IPY_MODEL_cca84f428a0f4a7695c747eeb51b508c",
            "value": "100%"
          }
        },
        "614a77f0ae664d5cac4d2e08f9ec1b1f": {
          "model_module": "@jupyter-widgets/controls",
          "model_name": "FloatProgressModel",
          "model_module_version": "1.5.0",
          "state": {
            "_dom_classes": [],
            "_model_module": "@jupyter-widgets/controls",
            "_model_module_version": "1.5.0",
            "_model_name": "FloatProgressModel",
            "_view_count": null,
            "_view_module": "@jupyter-widgets/controls",
            "_view_module_version": "1.5.0",
            "_view_name": "ProgressView",
            "bar_style": "success",
            "description": "",
            "description_tooltip": null,
            "layout": "IPY_MODEL_c7dfc63ff6814b7bb28d33a705ec9863",
            "max": 1648877,
            "min": 0,
            "orientation": "horizontal",
            "style": "IPY_MODEL_d776a9fc3b094c7aa3cd514a91f45e07",
            "value": 1648877
          }
        },
        "931f5edffacb4818aec5f93495921647": {
          "model_module": "@jupyter-widgets/controls",
          "model_name": "HTMLModel",
          "model_module_version": "1.5.0",
          "state": {
            "_dom_classes": [],
            "_model_module": "@jupyter-widgets/controls",
            "_model_module_version": "1.5.0",
            "_model_name": "HTMLModel",
            "_view_count": null,
            "_view_module": "@jupyter-widgets/controls",
            "_view_module_version": "1.5.0",
            "_view_name": "HTMLView",
            "description": "",
            "description_tooltip": null,
            "layout": "IPY_MODEL_f9a4f259219a4ec3ad6ddda8e6f0f98a",
            "placeholder": "​",
            "style": "IPY_MODEL_10615e709430490abb5e3dbcad26ff83",
            "value": " 1648877/1648877 [00:00&lt;00:00, 314616.49it/s]"
          }
        },
        "6ae2adfeeaa04dcd80f7f42de2b522e3": {
          "model_module": "@jupyter-widgets/base",
          "model_name": "LayoutModel",
          "model_module_version": "1.2.0",
          "state": {
            "_model_module": "@jupyter-widgets/base",
            "_model_module_version": "1.2.0",
            "_model_name": "LayoutModel",
            "_view_count": null,
            "_view_module": "@jupyter-widgets/base",
            "_view_module_version": "1.2.0",
            "_view_name": "LayoutView",
            "align_content": null,
            "align_items": null,
            "align_self": null,
            "border": null,
            "bottom": null,
            "display": null,
            "flex": null,
            "flex_flow": null,
            "grid_area": null,
            "grid_auto_columns": null,
            "grid_auto_flow": null,
            "grid_auto_rows": null,
            "grid_column": null,
            "grid_gap": null,
            "grid_row": null,
            "grid_template_areas": null,
            "grid_template_columns": null,
            "grid_template_rows": null,
            "height": null,
            "justify_content": null,
            "justify_items": null,
            "left": null,
            "margin": null,
            "max_height": null,
            "max_width": null,
            "min_height": null,
            "min_width": null,
            "object_fit": null,
            "object_position": null,
            "order": null,
            "overflow": null,
            "overflow_x": null,
            "overflow_y": null,
            "padding": null,
            "right": null,
            "top": null,
            "visibility": null,
            "width": null
          }
        },
        "586023954ba14ddf8245d86d34e36498": {
          "model_module": "@jupyter-widgets/base",
          "model_name": "LayoutModel",
          "model_module_version": "1.2.0",
          "state": {
            "_model_module": "@jupyter-widgets/base",
            "_model_module_version": "1.2.0",
            "_model_name": "LayoutModel",
            "_view_count": null,
            "_view_module": "@jupyter-widgets/base",
            "_view_module_version": "1.2.0",
            "_view_name": "LayoutView",
            "align_content": null,
            "align_items": null,
            "align_self": null,
            "border": null,
            "bottom": null,
            "display": null,
            "flex": null,
            "flex_flow": null,
            "grid_area": null,
            "grid_auto_columns": null,
            "grid_auto_flow": null,
            "grid_auto_rows": null,
            "grid_column": null,
            "grid_gap": null,
            "grid_row": null,
            "grid_template_areas": null,
            "grid_template_columns": null,
            "grid_template_rows": null,
            "height": null,
            "justify_content": null,
            "justify_items": null,
            "left": null,
            "margin": null,
            "max_height": null,
            "max_width": null,
            "min_height": null,
            "min_width": null,
            "object_fit": null,
            "object_position": null,
            "order": null,
            "overflow": null,
            "overflow_x": null,
            "overflow_y": null,
            "padding": null,
            "right": null,
            "top": null,
            "visibility": null,
            "width": null
          }
        },
        "cca84f428a0f4a7695c747eeb51b508c": {
          "model_module": "@jupyter-widgets/controls",
          "model_name": "DescriptionStyleModel",
          "model_module_version": "1.5.0",
          "state": {
            "_model_module": "@jupyter-widgets/controls",
            "_model_module_version": "1.5.0",
            "_model_name": "DescriptionStyleModel",
            "_view_count": null,
            "_view_module": "@jupyter-widgets/base",
            "_view_module_version": "1.2.0",
            "_view_name": "StyleView",
            "description_width": ""
          }
        },
        "c7dfc63ff6814b7bb28d33a705ec9863": {
          "model_module": "@jupyter-widgets/base",
          "model_name": "LayoutModel",
          "model_module_version": "1.2.0",
          "state": {
            "_model_module": "@jupyter-widgets/base",
            "_model_module_version": "1.2.0",
            "_model_name": "LayoutModel",
            "_view_count": null,
            "_view_module": "@jupyter-widgets/base",
            "_view_module_version": "1.2.0",
            "_view_name": "LayoutView",
            "align_content": null,
            "align_items": null,
            "align_self": null,
            "border": null,
            "bottom": null,
            "display": null,
            "flex": null,
            "flex_flow": null,
            "grid_area": null,
            "grid_auto_columns": null,
            "grid_auto_flow": null,
            "grid_auto_rows": null,
            "grid_column": null,
            "grid_gap": null,
            "grid_row": null,
            "grid_template_areas": null,
            "grid_template_columns": null,
            "grid_template_rows": null,
            "height": null,
            "justify_content": null,
            "justify_items": null,
            "left": null,
            "margin": null,
            "max_height": null,
            "max_width": null,
            "min_height": null,
            "min_width": null,
            "object_fit": null,
            "object_position": null,
            "order": null,
            "overflow": null,
            "overflow_x": null,
            "overflow_y": null,
            "padding": null,
            "right": null,
            "top": null,
            "visibility": null,
            "width": null
          }
        },
        "d776a9fc3b094c7aa3cd514a91f45e07": {
          "model_module": "@jupyter-widgets/controls",
          "model_name": "ProgressStyleModel",
          "model_module_version": "1.5.0",
          "state": {
            "_model_module": "@jupyter-widgets/controls",
            "_model_module_version": "1.5.0",
            "_model_name": "ProgressStyleModel",
            "_view_count": null,
            "_view_module": "@jupyter-widgets/base",
            "_view_module_version": "1.2.0",
            "_view_name": "StyleView",
            "bar_color": null,
            "description_width": ""
          }
        },
        "f9a4f259219a4ec3ad6ddda8e6f0f98a": {
          "model_module": "@jupyter-widgets/base",
          "model_name": "LayoutModel",
          "model_module_version": "1.2.0",
          "state": {
            "_model_module": "@jupyter-widgets/base",
            "_model_module_version": "1.2.0",
            "_model_name": "LayoutModel",
            "_view_count": null,
            "_view_module": "@jupyter-widgets/base",
            "_view_module_version": "1.2.0",
            "_view_name": "LayoutView",
            "align_content": null,
            "align_items": null,
            "align_self": null,
            "border": null,
            "bottom": null,
            "display": null,
            "flex": null,
            "flex_flow": null,
            "grid_area": null,
            "grid_auto_columns": null,
            "grid_auto_flow": null,
            "grid_auto_rows": null,
            "grid_column": null,
            "grid_gap": null,
            "grid_row": null,
            "grid_template_areas": null,
            "grid_template_columns": null,
            "grid_template_rows": null,
            "height": null,
            "justify_content": null,
            "justify_items": null,
            "left": null,
            "margin": null,
            "max_height": null,
            "max_width": null,
            "min_height": null,
            "min_width": null,
            "object_fit": null,
            "object_position": null,
            "order": null,
            "overflow": null,
            "overflow_x": null,
            "overflow_y": null,
            "padding": null,
            "right": null,
            "top": null,
            "visibility": null,
            "width": null
          }
        },
        "10615e709430490abb5e3dbcad26ff83": {
          "model_module": "@jupyter-widgets/controls",
          "model_name": "DescriptionStyleModel",
          "model_module_version": "1.5.0",
          "state": {
            "_model_module": "@jupyter-widgets/controls",
            "_model_module_version": "1.5.0",
            "_model_name": "DescriptionStyleModel",
            "_view_count": null,
            "_view_module": "@jupyter-widgets/base",
            "_view_module_version": "1.2.0",
            "_view_name": "StyleView",
            "description_width": ""
          }
        },
        "7885be853e474de98a13933683e2f961": {
          "model_module": "@jupyter-widgets/controls",
          "model_name": "HBoxModel",
          "model_module_version": "1.5.0",
          "state": {
            "_dom_classes": [],
            "_model_module": "@jupyter-widgets/controls",
            "_model_module_version": "1.5.0",
            "_model_name": "HBoxModel",
            "_view_count": null,
            "_view_module": "@jupyter-widgets/controls",
            "_view_module_version": "1.5.0",
            "_view_name": "HBoxView",
            "box_style": "",
            "children": [
              "IPY_MODEL_326775b8c24245a389281ea701f96811",
              "IPY_MODEL_77bde1e322ac4b52acf875db13211dbf",
              "IPY_MODEL_397fb96ddf874f38824b16bf281c9464"
            ],
            "layout": "IPY_MODEL_580ab61745034d7ab5a775f229d58c96"
          }
        },
        "326775b8c24245a389281ea701f96811": {
          "model_module": "@jupyter-widgets/controls",
          "model_name": "HTMLModel",
          "model_module_version": "1.5.0",
          "state": {
            "_dom_classes": [],
            "_model_module": "@jupyter-widgets/controls",
            "_model_module_version": "1.5.0",
            "_model_name": "HTMLModel",
            "_view_count": null,
            "_view_module": "@jupyter-widgets/controls",
            "_view_module_version": "1.5.0",
            "_view_name": "HTMLView",
            "description": "",
            "description_tooltip": null,
            "layout": "IPY_MODEL_47250c93665d49acb4fbfa36680da91b",
            "placeholder": "​",
            "style": "IPY_MODEL_cf59df7df33847a3afabd783f9f81298",
            "value": "100%"
          }
        },
        "77bde1e322ac4b52acf875db13211dbf": {
          "model_module": "@jupyter-widgets/controls",
          "model_name": "FloatProgressModel",
          "model_module_version": "1.5.0",
          "state": {
            "_dom_classes": [],
            "_model_module": "@jupyter-widgets/controls",
            "_model_module_version": "1.5.0",
            "_model_name": "FloatProgressModel",
            "_view_count": null,
            "_view_module": "@jupyter-widgets/controls",
            "_view_module_version": "1.5.0",
            "_view_name": "ProgressView",
            "bar_style": "success",
            "description": "",
            "description_tooltip": null,
            "layout": "IPY_MODEL_8248fa4bfb9f4733a2ec9fc4f37a8a4e",
            "max": 4542,
            "min": 0,
            "orientation": "horizontal",
            "style": "IPY_MODEL_c847babbd46047dd925272dcc996b9d7",
            "value": 4542
          }
        },
        "397fb96ddf874f38824b16bf281c9464": {
          "model_module": "@jupyter-widgets/controls",
          "model_name": "HTMLModel",
          "model_module_version": "1.5.0",
          "state": {
            "_dom_classes": [],
            "_model_module": "@jupyter-widgets/controls",
            "_model_module_version": "1.5.0",
            "_model_name": "HTMLModel",
            "_view_count": null,
            "_view_module": "@jupyter-widgets/controls",
            "_view_module_version": "1.5.0",
            "_view_name": "HTMLView",
            "description": "",
            "description_tooltip": null,
            "layout": "IPY_MODEL_7f22f12f999b48bb83c332370b289200",
            "placeholder": "​",
            "style": "IPY_MODEL_4cf539f19f8e4398aabb74427dd235ba",
            "value": " 4542/4542 [00:00&lt;00:00, 41928.45it/s]"
          }
        },
        "580ab61745034d7ab5a775f229d58c96": {
          "model_module": "@jupyter-widgets/base",
          "model_name": "LayoutModel",
          "model_module_version": "1.2.0",
          "state": {
            "_model_module": "@jupyter-widgets/base",
            "_model_module_version": "1.2.0",
            "_model_name": "LayoutModel",
            "_view_count": null,
            "_view_module": "@jupyter-widgets/base",
            "_view_module_version": "1.2.0",
            "_view_name": "LayoutView",
            "align_content": null,
            "align_items": null,
            "align_self": null,
            "border": null,
            "bottom": null,
            "display": null,
            "flex": null,
            "flex_flow": null,
            "grid_area": null,
            "grid_auto_columns": null,
            "grid_auto_flow": null,
            "grid_auto_rows": null,
            "grid_column": null,
            "grid_gap": null,
            "grid_row": null,
            "grid_template_areas": null,
            "grid_template_columns": null,
            "grid_template_rows": null,
            "height": null,
            "justify_content": null,
            "justify_items": null,
            "left": null,
            "margin": null,
            "max_height": null,
            "max_width": null,
            "min_height": null,
            "min_width": null,
            "object_fit": null,
            "object_position": null,
            "order": null,
            "overflow": null,
            "overflow_x": null,
            "overflow_y": null,
            "padding": null,
            "right": null,
            "top": null,
            "visibility": null,
            "width": null
          }
        },
        "47250c93665d49acb4fbfa36680da91b": {
          "model_module": "@jupyter-widgets/base",
          "model_name": "LayoutModel",
          "model_module_version": "1.2.0",
          "state": {
            "_model_module": "@jupyter-widgets/base",
            "_model_module_version": "1.2.0",
            "_model_name": "LayoutModel",
            "_view_count": null,
            "_view_module": "@jupyter-widgets/base",
            "_view_module_version": "1.2.0",
            "_view_name": "LayoutView",
            "align_content": null,
            "align_items": null,
            "align_self": null,
            "border": null,
            "bottom": null,
            "display": null,
            "flex": null,
            "flex_flow": null,
            "grid_area": null,
            "grid_auto_columns": null,
            "grid_auto_flow": null,
            "grid_auto_rows": null,
            "grid_column": null,
            "grid_gap": null,
            "grid_row": null,
            "grid_template_areas": null,
            "grid_template_columns": null,
            "grid_template_rows": null,
            "height": null,
            "justify_content": null,
            "justify_items": null,
            "left": null,
            "margin": null,
            "max_height": null,
            "max_width": null,
            "min_height": null,
            "min_width": null,
            "object_fit": null,
            "object_position": null,
            "order": null,
            "overflow": null,
            "overflow_x": null,
            "overflow_y": null,
            "padding": null,
            "right": null,
            "top": null,
            "visibility": null,
            "width": null
          }
        },
        "cf59df7df33847a3afabd783f9f81298": {
          "model_module": "@jupyter-widgets/controls",
          "model_name": "DescriptionStyleModel",
          "model_module_version": "1.5.0",
          "state": {
            "_model_module": "@jupyter-widgets/controls",
            "_model_module_version": "1.5.0",
            "_model_name": "DescriptionStyleModel",
            "_view_count": null,
            "_view_module": "@jupyter-widgets/base",
            "_view_module_version": "1.2.0",
            "_view_name": "StyleView",
            "description_width": ""
          }
        },
        "8248fa4bfb9f4733a2ec9fc4f37a8a4e": {
          "model_module": "@jupyter-widgets/base",
          "model_name": "LayoutModel",
          "model_module_version": "1.2.0",
          "state": {
            "_model_module": "@jupyter-widgets/base",
            "_model_module_version": "1.2.0",
            "_model_name": "LayoutModel",
            "_view_count": null,
            "_view_module": "@jupyter-widgets/base",
            "_view_module_version": "1.2.0",
            "_view_name": "LayoutView",
            "align_content": null,
            "align_items": null,
            "align_self": null,
            "border": null,
            "bottom": null,
            "display": null,
            "flex": null,
            "flex_flow": null,
            "grid_area": null,
            "grid_auto_columns": null,
            "grid_auto_flow": null,
            "grid_auto_rows": null,
            "grid_column": null,
            "grid_gap": null,
            "grid_row": null,
            "grid_template_areas": null,
            "grid_template_columns": null,
            "grid_template_rows": null,
            "height": null,
            "justify_content": null,
            "justify_items": null,
            "left": null,
            "margin": null,
            "max_height": null,
            "max_width": null,
            "min_height": null,
            "min_width": null,
            "object_fit": null,
            "object_position": null,
            "order": null,
            "overflow": null,
            "overflow_x": null,
            "overflow_y": null,
            "padding": null,
            "right": null,
            "top": null,
            "visibility": null,
            "width": null
          }
        },
        "c847babbd46047dd925272dcc996b9d7": {
          "model_module": "@jupyter-widgets/controls",
          "model_name": "ProgressStyleModel",
          "model_module_version": "1.5.0",
          "state": {
            "_model_module": "@jupyter-widgets/controls",
            "_model_module_version": "1.5.0",
            "_model_name": "ProgressStyleModel",
            "_view_count": null,
            "_view_module": "@jupyter-widgets/base",
            "_view_module_version": "1.2.0",
            "_view_name": "StyleView",
            "bar_color": null,
            "description_width": ""
          }
        },
        "7f22f12f999b48bb83c332370b289200": {
          "model_module": "@jupyter-widgets/base",
          "model_name": "LayoutModel",
          "model_module_version": "1.2.0",
          "state": {
            "_model_module": "@jupyter-widgets/base",
            "_model_module_version": "1.2.0",
            "_model_name": "LayoutModel",
            "_view_count": null,
            "_view_module": "@jupyter-widgets/base",
            "_view_module_version": "1.2.0",
            "_view_name": "LayoutView",
            "align_content": null,
            "align_items": null,
            "align_self": null,
            "border": null,
            "bottom": null,
            "display": null,
            "flex": null,
            "flex_flow": null,
            "grid_area": null,
            "grid_auto_columns": null,
            "grid_auto_flow": null,
            "grid_auto_rows": null,
            "grid_column": null,
            "grid_gap": null,
            "grid_row": null,
            "grid_template_areas": null,
            "grid_template_columns": null,
            "grid_template_rows": null,
            "height": null,
            "justify_content": null,
            "justify_items": null,
            "left": null,
            "margin": null,
            "max_height": null,
            "max_width": null,
            "min_height": null,
            "min_width": null,
            "object_fit": null,
            "object_position": null,
            "order": null,
            "overflow": null,
            "overflow_x": null,
            "overflow_y": null,
            "padding": null,
            "right": null,
            "top": null,
            "visibility": null,
            "width": null
          }
        },
        "4cf539f19f8e4398aabb74427dd235ba": {
          "model_module": "@jupyter-widgets/controls",
          "model_name": "DescriptionStyleModel",
          "model_module_version": "1.5.0",
          "state": {
            "_model_module": "@jupyter-widgets/controls",
            "_model_module_version": "1.5.0",
            "_model_name": "DescriptionStyleModel",
            "_view_count": null,
            "_view_module": "@jupyter-widgets/base",
            "_view_module_version": "1.2.0",
            "_view_name": "StyleView",
            "description_width": ""
          }
        }
      }
    }
  },
  "cells": [
    {
      "cell_type": "markdown",
      "metadata": {
        "id": "view-in-github",
        "colab_type": "text"
      },
      "source": [
        "<a href=\"https://colab.research.google.com/github/choijiwoong/samples_for_colab/blob/main/%EB%AC%B88.ipynb\" target=\"_parent\"><img src=\"https://colab.research.google.com/assets/colab-badge.svg\" alt=\"Open In Colab\"/></a>"
      ]
    },
    {
      "cell_type": "markdown",
      "source": [
        "  [1. 배경지식]"
      ],
      "metadata": {
        "id": "xv7i4V44S7Ns"
      }
    },
    {
      "cell_type": "markdown",
      "source": [
        "MNIST 데이터는 http://yann.lecun.com/exdb/mnist에서 제공하는 데이터로, 숫자 0부터 9까지의 손글씨 이미지(28x28)로 구성된 데이터셋이다.\n",
        "총 60,000개의 훈련 데이터와 레이블, 총 10,000개의 테스트 데이터와 레이블로 구성되어 있다.\n",
        " MNIST 데이터를 사용한 MNIST데이터 문제는 이러한 손글씨 숫자 이미지가 입력으로 들어왔을때, 해당 숫자가 몇인지를 맞추는 문제이다. MNIST데이터의 경우 이미지의 크기도 28x28로 상대적으로 작고, 기본적인 문제인만큼 숫자가 웬만큼 올바르게 중앙에 담겨있어 고려할 변수가 단순해지기에 간단한 선형 모델로도 문제 해결이 가능하다.\n",
        " 그렇기에 28x28이미지를 784의 선형 sequence로 바꾸어 모델의 입력으로 넣는 방법을 택했다."
      ],
      "metadata": {
        "id": "MWdI0fP_dbLb"
      }
    },
    {
      "cell_type": "markdown",
      "source": [
        "[2. 모듈 임포트]"
      ],
      "metadata": {
        "id": "0PytcCobS_DN"
      }
    },
    {
      "cell_type": "code",
      "source": [
        "import torch"
      ],
      "metadata": {
        "id": "PTOZJAmlefSM"
      },
      "execution_count": 1,
      "outputs": []
    },
    {
      "cell_type": "markdown",
      "source": [
        "학습에 사용할 모듈은 PyTorch이다.\n",
        " "
      ],
      "metadata": {
        "id": "opfgG4utP8dN"
      }
    },
    {
      "cell_type": "code",
      "source": [
        "import torchvision.datasets as dsets"
      ],
      "metadata": {
        "id": "uskuLYiDRSZ-"
      },
      "execution_count": 2,
      "outputs": []
    },
    {
      "cell_type": "markdown",
      "source": [
        "torch에서는 torchvision, torchtext등 유명한 데이터셋이나 모델들을 제공해주는 기능을 자체적으로 제공해준다. 고로 MNIST데이터셋을 가져오는데에도 torchvision.datasets.MNIST를 사용할 것이다."
      ],
      "metadata": {
        "id": "75NNZXR-RZAA"
      }
    },
    {
      "cell_type": "code",
      "source": [
        "import torchvision.transforms as transforms"
      ],
      "metadata": {
        "id": "HyWQD1sFRYVQ"
      },
      "execution_count": 3,
      "outputs": []
    },
    {
      "cell_type": "markdown",
      "source": [
        "torchvision.transforms는 torchvision.datasets.MNIST를 통해 데이터셋을 다운받을때, 해당 데이터의 타입을 변경하기 위해 사용한다. 실제 다운받는 코드를 보면 torchvision.transforms.ToTensor을 사용하여 MNIST데이터셋의 데이터형식을 torch.Tensor라는 타입으로 변환한다.\n",
        "Tensor는 Torch에서 자체적으로 사용하는 데이터유형인데 일반적인 데이터타입이 아닌 머신러닝을 위해 최적화된 데이터 타입이다. 예를 들어 역전파를 위해 .grad속성이 default None으로 설정되어 있다."
      ],
      "metadata": {
        "id": "YpmCR0XuRf44"
      }
    },
    {
      "cell_type": "code",
      "source": [
        "from torch.utils.data import DataLoader"
      ],
      "metadata": {
        "id": "SvnMvPI-Rjcc"
      },
      "execution_count": 4,
      "outputs": []
    },
    {
      "cell_type": "markdown",
      "source": [
        "실제로 학습을 진행할때, 수많은 데이터를 사용하여 학습을 진행하게 되는데 데이터를 하나하나 학습할때마다 오차를 계산하고 이를 모델에 반영하다보면 정말 오랜 시간과 자원이 소모되게된다. 고로 대게 많은 양의 데이터를 학습시킬때는 데이터를 여러개를 하나로 묶어 나온 오차를 한꺼번에 모델에 반영시키는 방법을 사용하는데, 이러한 묶여진 데이터의 단위를 batch라고 한다.\n",
        " batch작업을 보다 편리하게 하기 위해서 torch에서는 torch.utils.data를 제공하는데 데이터만 전달해주면 인자로 전달된 batch_size만큼 slicing하여 반환해준다."
      ],
      "metadata": {
        "id": "-zO-FtfdRm-o"
      }
    },
    {
      "cell_type": "code",
      "source": [
        "import torch.nn as nn\n",
        "import matplotlib.pyplot as plt\n",
        "import random"
      ],
      "metadata": {
        "id": "ZBuFKaixRfsA"
      },
      "execution_count": 5,
      "outputs": []
    },
    {
      "cell_type": "markdown",
      "source": [
        "torch.nn에서는 모델을 설계할때 사용할 수 있는 (여러 레이어를 묶을 수 있는)컨테이너, (오차계산에 사용하는)손실함수, 레이어 등 여러 종류의 설계블록을 제공해준다. 아래에 MNIST학습에 사용할 때 역시 torch.nn.Linear 레이어를 사용한다."
      ],
      "metadata": {
        "id": "oGu81EGjScX0"
      }
    },
    {
      "cell_type": "markdown",
      "source": [
        "[3. 데이터 학습을 위한 준비]"
      ],
      "metadata": {
        "id": "mVEjewikTm0V"
      }
    },
    {
      "cell_type": "code",
      "source": [
        "USE_CUDA=torch.cuda.is_available()\n",
        "device=torch.device(\"cuda\" if USE_CUDA else \"cpu\")\n",
        "print(\"학습을 진행할 기기: \", device)"
      ],
      "metadata": {
        "colab": {
          "base_uri": "https://localhost:8080/"
        },
        "id": "gRqIiZKAMdUp",
        "outputId": "ff585acd-5c3f-49e5-9eb2-f56708895846"
      },
      "execution_count": 6,
      "outputs": [
        {
          "output_type": "stream",
          "name": "stdout",
          "text": [
            "학습을 진행할 기기:  cuda\n"
          ]
        }
      ]
    },
    {
      "cell_type": "markdown",
      "source": [
        "CUDA는 엔비디아에서 제공해주는 GPU에서 수행하는 병렬 연산들을 일반적인 프로그래밍언어를 통해 연산가능하게 해주는 기능이다. 우선 GPU는 Graphics Processing Unit으로 일반적으로 연산에 사용된다고 알고있는 CPU(Core Processing Unit)과는 다른 작업을 전담한다. CPU의 하나의 코어는 강력한 연산수준을 제공하지만, 한번에 하나의 일만을 할 수 있다. 다만 정말 짧은 시간동안 수많은 프로세스들을 나누어 처리하며 한번에 처리되는것처럼 보이게하는 context switching을 사용할 뿐이다. 하지만 모니터에 항시 변하는 pixel값들을 연산하는 작업은 한번에 하나씩 처리하는 CPU가 처리하기엔 너무 쉬운 연산이지만 양이 많아 비효율적이다. 고로 쉬운 연산을 한꺼번에 처리하는 병렬연산을 전담하는 장치를 새로이 넣었는데 그것이 GPU이다.\n",
        " 앞서 말했던 것처럼 GPU를 사용할 수 있게하는 CUDA를 사용하는 이유는 모델에 사용하는 데이터들이 일반적으로 행렬구조를 띄는 병렬데이터이고, 모델을 발전시키기 위해 오차를 계산하는 과정에서 사용하는 미분 과정이 연쇄적으로 이루어지는 굉장히 간단한 연산이기에 이러한 연산을 GPU에 위임하여 병렬연산을 효과적으로 하여 빠른 모델학습을 가능하게하기 위함이다.\n",
        "  위의 코드는 NVIDIA GPU에서 제공하는 CUDA가 사용가능하면 연산에 사용할 장치를 GPU로, 그렇지 않으면 CPU로 진행하게끔 장치를 지정하는 부분이다."
      ],
      "metadata": {
        "id": "oj6AAXpZTqhW"
      }
    },
    {
      "cell_type": "code",
      "source": [
        "#Hyperparameters\n",
        "training_epochs=15\n",
        "batch_size=100"
      ],
      "metadata": {
        "id": "vI9PQJShM1_d"
      },
      "execution_count": 7,
      "outputs": []
    },
    {
      "cell_type": "markdown",
      "source": [
        "전반적인 모델의 중요 인자들을 HyperParameter라고하여 정리해두는데, batch_size는 위에서 설명을 해두었고 training_epochs는 하나의 데이터셋을 한번만 학습시키면 모델이 온전히 학습하지 못할 수도 있기에 같은 데이터를 여러번 학습시키는데 그 횟수이다."
      ],
      "metadata": {
        "id": "D0xV0CYFV3e7"
      }
    },
    {
      "cell_type": "code",
      "source": [
        "mnist_train=dsets.MNIST(root='MNIST_data/',\n",
        "                        train=True,\n",
        "                        transform=transforms.ToTensor(),\n",
        "                        download=True)\n",
        "\n",
        "mnist_test=dsets.MNIST(root='MNIST_data/',\n",
        "                       train=False,\n",
        "                       transform=transforms.ToTensor(),\n",
        "                       download=True)"
      ],
      "metadata": {
        "colab": {
          "base_uri": "https://localhost:8080/",
          "height": 440,
          "referenced_widgets": [
            "cb55bb01659d4092be04142c1060e3a7",
            "0a227e0392e5429680e6a9f3df235474",
            "b5c21e90cebe4fb188ee667252ab71ef",
            "e96aa497ce094ceeb9359c00a7fb913c",
            "7c0668f4feef44f19a11b872def971b5",
            "038f2cafad204a5bb5f347229b8cb41c",
            "d12f36987d2b4073aaf925b434c62ee4",
            "43950fb0ba1f42b8a6638c4c574f5bab",
            "dcf18fed7641476ab6fb16df846290bb",
            "2a05ca5f22ef48eda0a4b2dc6c661e48",
            "9695650a50d04075b0ce4626cbfc01de",
            "544352f7164e49bf8ab6be2a295e35ce",
            "2b4c985821d74cb986d8178a6c5aba32",
            "2804a218f7f04f1e98ede166bf0feed5",
            "cfdda2fcc5fa45fa926e88f45629e5bf",
            "c5ebb377a20f40b38e83aef5555fe0e3",
            "a51c0ef2d1a54d458f9a5e4c134b2568",
            "1f29110cea2744b39ccd86b1c7d6e081",
            "627488e5906e45fca409345abfd9056a",
            "4c254021948844e8b5357d0f47b7b804",
            "9a49e12ffb814cb9ae07d985192d6b4e",
            "5a453fb22fa948f3b0dbbb117a4d7321",
            "49788cf699d045819a5c1f5f248ca98e",
            "34bd5859189848ab8e20bc4e660e995a",
            "614a77f0ae664d5cac4d2e08f9ec1b1f",
            "931f5edffacb4818aec5f93495921647",
            "6ae2adfeeaa04dcd80f7f42de2b522e3",
            "586023954ba14ddf8245d86d34e36498",
            "cca84f428a0f4a7695c747eeb51b508c",
            "c7dfc63ff6814b7bb28d33a705ec9863",
            "d776a9fc3b094c7aa3cd514a91f45e07",
            "f9a4f259219a4ec3ad6ddda8e6f0f98a",
            "10615e709430490abb5e3dbcad26ff83",
            "7885be853e474de98a13933683e2f961",
            "326775b8c24245a389281ea701f96811",
            "77bde1e322ac4b52acf875db13211dbf",
            "397fb96ddf874f38824b16bf281c9464",
            "580ab61745034d7ab5a775f229d58c96",
            "47250c93665d49acb4fbfa36680da91b",
            "cf59df7df33847a3afabd783f9f81298",
            "8248fa4bfb9f4733a2ec9fc4f37a8a4e",
            "c847babbd46047dd925272dcc996b9d7",
            "7f22f12f999b48bb83c332370b289200",
            "4cf539f19f8e4398aabb74427dd235ba"
          ]
        },
        "id": "Sl29hqCBM86g",
        "outputId": "2d8694ad-1842-442c-e0bb-0a104ab371da"
      },
      "execution_count": 8,
      "outputs": [
        {
          "output_type": "stream",
          "name": "stdout",
          "text": [
            "Downloading http://yann.lecun.com/exdb/mnist/train-images-idx3-ubyte.gz\n",
            "Downloading http://yann.lecun.com/exdb/mnist/train-images-idx3-ubyte.gz to MNIST_data/MNIST/raw/train-images-idx3-ubyte.gz\n"
          ]
        },
        {
          "output_type": "display_data",
          "data": {
            "text/plain": [
              "  0%|          | 0/9912422 [00:00<?, ?it/s]"
            ],
            "application/vnd.jupyter.widget-view+json": {
              "version_major": 2,
              "version_minor": 0,
              "model_id": "cb55bb01659d4092be04142c1060e3a7"
            }
          },
          "metadata": {}
        },
        {
          "output_type": "stream",
          "name": "stdout",
          "text": [
            "Extracting MNIST_data/MNIST/raw/train-images-idx3-ubyte.gz to MNIST_data/MNIST/raw\n",
            "\n",
            "Downloading http://yann.lecun.com/exdb/mnist/train-labels-idx1-ubyte.gz\n",
            "Downloading http://yann.lecun.com/exdb/mnist/train-labels-idx1-ubyte.gz to MNIST_data/MNIST/raw/train-labels-idx1-ubyte.gz\n"
          ]
        },
        {
          "output_type": "display_data",
          "data": {
            "text/plain": [
              "  0%|          | 0/28881 [00:00<?, ?it/s]"
            ],
            "application/vnd.jupyter.widget-view+json": {
              "version_major": 2,
              "version_minor": 0,
              "model_id": "544352f7164e49bf8ab6be2a295e35ce"
            }
          },
          "metadata": {}
        },
        {
          "output_type": "stream",
          "name": "stdout",
          "text": [
            "Extracting MNIST_data/MNIST/raw/train-labels-idx1-ubyte.gz to MNIST_data/MNIST/raw\n",
            "\n",
            "Downloading http://yann.lecun.com/exdb/mnist/t10k-images-idx3-ubyte.gz\n",
            "Downloading http://yann.lecun.com/exdb/mnist/t10k-images-idx3-ubyte.gz to MNIST_data/MNIST/raw/t10k-images-idx3-ubyte.gz\n"
          ]
        },
        {
          "output_type": "display_data",
          "data": {
            "text/plain": [
              "  0%|          | 0/1648877 [00:00<?, ?it/s]"
            ],
            "application/vnd.jupyter.widget-view+json": {
              "version_major": 2,
              "version_minor": 0,
              "model_id": "49788cf699d045819a5c1f5f248ca98e"
            }
          },
          "metadata": {}
        },
        {
          "output_type": "stream",
          "name": "stdout",
          "text": [
            "Extracting MNIST_data/MNIST/raw/t10k-images-idx3-ubyte.gz to MNIST_data/MNIST/raw\n",
            "\n",
            "Downloading http://yann.lecun.com/exdb/mnist/t10k-labels-idx1-ubyte.gz\n",
            "Downloading http://yann.lecun.com/exdb/mnist/t10k-labels-idx1-ubyte.gz to MNIST_data/MNIST/raw/t10k-labels-idx1-ubyte.gz\n"
          ]
        },
        {
          "output_type": "display_data",
          "data": {
            "text/plain": [
              "  0%|          | 0/4542 [00:00<?, ?it/s]"
            ],
            "application/vnd.jupyter.widget-view+json": {
              "version_major": 2,
              "version_minor": 0,
              "model_id": "7885be853e474de98a13933683e2f961"
            }
          },
          "metadata": {}
        },
        {
          "output_type": "stream",
          "name": "stdout",
          "text": [
            "Extracting MNIST_data/MNIST/raw/t10k-labels-idx1-ubyte.gz to MNIST_data/MNIST/raw\n",
            "\n"
          ]
        }
      ]
    },
    {
      "cell_type": "markdown",
      "source": [
        "torchvision.datasets.MNIST를 활용하여 모델학습에 사용할 훈련 데이터와 테스트 데이터를 다운받는 과정이다. transform은 위 모델 임포트에서 한번 설명했듯이 다운받은 데이터셋의 데이터형식을 학습가능한 torch.Tensor타입으로 변환시키는 과정이다.\n",
        " 일반적으로 모델을 학습시키는데에 훈련데이터만이 필요한 것이 아니다. 크게 훈련데이터, 검증데이터, 테스트데이터로 분류된다. 훈련데이터는 말그대로 훈련에 사용될 데이터이고 검증데이터는 학습과정에서 바뀌는 레이어의 일반적인 파라미터가아닌 모델의 중요 인자인 하이퍼파라미터를 조정하기 위한 데이터이며, 테스트데이터는 모델의 성능을 확인하기 위한 데이터이다. 현재 MNIST데이터를 학습하는데에는 60,000개의 훈련데이터와 10,000개의 테스트데이터만을 사용한다."
      ],
      "metadata": {
        "id": "_wjP7EEjWaGc"
      }
    },
    {
      "cell_type": "code",
      "source": [
        "data_loader=DataLoader(dataset=mnist_train, batch_size=batch_size, shuffle=True, drop_last=True)"
      ],
      "metadata": {
        "id": "FFQLdHBcNUvJ"
      },
      "execution_count": 9,
      "outputs": []
    },
    {
      "cell_type": "markdown",
      "source": [
        "MNIST훈련 데이터셋을 하이퍼파라미터인 batch_size만큼씩 반환할 수 있는 iterator형식으로 반환해준다. drop_last는 batch_size만큼 잘랐을때 가장 마지막에 남게되는 데이터를 사용할것인지 말것인지를 말하는 것인데, 마지막 남은 데이터의 양이 batch_size보다 적은 경우 그 데이터에 대해 오버피팅될 (데이터를 균일하게보지않고 마지막 데이터가 조금 더 중요한 데이터다 라는 판단)가능성을 막아준다."
      ],
      "metadata": {
        "id": "7YolFOtCYQjF"
      }
    },
    {
      "cell_type": "code",
      "source": [
        "linear=nn.Linear(784, 10).to(device)"
      ],
      "metadata": {
        "id": "9BJ4dW07NOHX"
      },
      "execution_count": 10,
      "outputs": []
    },
    {
      "cell_type": "markdown",
      "source": [
        "784개의 입력데이터(28x28 손글씨 사진)를 받아 10개(0~9)의 데이터를 출력하게하는 선형 레이어를 정의했다."
      ],
      "metadata": {
        "id": "R-rtlV06Zh6f"
      }
    },
    {
      "cell_type": "markdown",
      "source": [
        "![MNIST.jpg](data:image/jpeg;base64,/9j/4AAQSkZJRgABAQAAAQABAAD/2wCEAAkGBxQTExYUFBMXFxYYGRsZGBgZGRsfGRgbHhkZFxsYGBwcHykhGxwmHBkYIzImJyouLy8vGSE1OjUtOSkuLywBCgoKBQUFDgUFDiwaFBosLCwsLCwsLCwsLCwsLCwsLCwsLCwsLCwsLCwsLCwsLCwsLCwsLCwsLCwsLCwsLCwsLP/AABEIAKQBMwMBIgACEQEDEQH/xAAcAAABBQEBAQAAAAAAAAAAAAAAAgMEBQYBBwj/xABKEAACAQIDBAYHBAcGBQMFAAABAhEDIQASMQQiQVEFEzJhcYEHI0JSYpGhBnKx0RQzgpLB8PEVQ3OisuE0k7TC0iRTpCVjg6Pi/8QAFAEBAAAAAAAAAAAAAAAAAAAAAP/EABQRAQAAAAAAAAAAAAAAAAAAAAD/2gAMAwEAAhEDEQA/APccGDBgDBgwYAwYMGAMGDBgDBgwYAxlKlevtlWrToVmobPQbq3q01Q1atUAF1pl1ZURJCk5SSwYCMt9F0jtYo0qlVuzTRnPgqlj+GKv7FbIaWw7OrdtqYqVO+pU9bUPm7tgLwYr+mWcUXNLNngZcgBbUdnNaY5254scV/TVJ2outOc5ECGKcfeF1tNxfAUZpbfIyN7TZ8xpzlhRTDQO2DlLRYqHAklSJnQNHaAWO0OSSsCcgYDvCMwmcxBHAjliH/Y+0kjLtGXKxLDPUNmC5UJI3glmDG7ZApgO2FbH0fUpU6wqVKbsaTbtaoXQLBHrHKAmmSGJkWzMLxgLToyg60aao67oiWzVCwmxz55JjUkknDm0UdoJTLVpgBwX9W104qBnNzpNombxlMPoPZmNBIq5TmqFjSKMrMXYsd+kIIad0AQZF4nEmt0dUJQjaqoyuGO7S3gNVsgsdDraYgwQFbt9VFFVMmbapdqcRnN2NNlbgFWBGu6RBm8jYOnHqCYUeR/PDO21yqVaKpmqMzlXkZA7Nmp5mJlaglIXWyxaIrQ9RiXFn9tcoBnjaNeeA1FPaiY0vpaJ8JeT8sOde3IeYYfWIxR7NtDGN4mZ5CfIAk/I+Bg4lU6sRLAft5f+0KT3EA4CzXaCbDIfB/8A+cO5n91f3j/44rW2gaMx8HKfQhgPxwGpTGqP/wDjLH/Rf6YCxzP7o/e/2x3O3ufUYruupe/VWdM3Wj/WMLLD2ahPix/81wE3rD7h+a/njvWn3G/y/wDliIA3uE9/WEf9xwohv/ab/mf74CT1p9xvp+eDrvhb5YhHaFFiFB72b/xwLUQ2BSeWVj/HATOuHJv3T+WO9eOTfut+WIjJGqrHPKo/1NhvIDoAfAKf9NMj64Cf1w+L91vyxz9IXmfkfyxXFRyH7oPzywR8sMuo5eEXBwFsdqT31HiRiPte3qF3HUuSFUSDvMwUEgGYBMnuBxR7ScUW1M5deqE1Ayso5lWDAHukX7sBuF6LpxvoKh4vUAZjz1Fh3CAOAxxE6qooWereQF4IwBYZeSlQ1tBAiJOBOk0A9Z6puKva/JW0f9knyNsFOajq2UhEkrmBBZiMs5TcKAWF9c3IAkLHBgwYAwYMGAMGDBgDBgwYAwYMGAMGDBgM96QXI6N2yNTs9Vf3kK/xxe0UyqByAHyGM/6Qz/8AT645hF/eqIv8caTAGK7p3ZzUoVEBQZhEuJTUdoSJHdInmMWOK3p5A1CoGdUECWa4FwZI4+GAoB9m0bLG0AZWLDKmVT1gUZU3v1YkFACcrikZJSDM6B6KWkHWnWUsyGCinItyoZQzsNVuJucxtOK9ujNlYrm2iCHdl7AzM4UVIGoADEZT2SQdVUh/Ydm2ZKVcdYzoaTGqQSsIFymCCHVsig68QQQCICy6B2ZGoKUql1LVGD0y6IS1RmbKMxJGabkniRY4k1+jFYoesqgq4Yesa5E7tzoeI4iRpOInQGz0noIVzlc1QjNUDEZqjEjNTdlMG2piLwZxI2no2gTTzGCHDIDUa7iSAL35wOXKcBC2uo/V1aKBYZqgFU5sil2ZjMLEqzESDEi5Btirek5JLkiqLMGOv1jz0xabczlKtNbUmNQNVKg5MzHOMuYEgMWGaLRoYJNU1EA5XZc40YGQflqPwwHAqk2IMkysAnxyhGPzB00scS9iqgkZQ5n3Ql+6Gswi8AzGhxHzgkcSDecoB0uQRbTU8uESGqJkgwpGpGRqg11IBJieIYldbi5C3oVyJyjKLzCFVH3lzDJ5kDDq12B/WrS+qfW3188VVCpN50kystbhvMrFl77EcSMPU6gNlp9afc4H7vD+TgLusa4HapMIvulT5S5H1wytbhLeC6fJVJPyxXVFpKV/9K9B4sYQJ4bjFT+OHyxsGC5eeWfqytfyjvwD7JPsq3dUYqT9AR+6cLqU8utGkveHn6EKTiHYi2SP/uRkPjECPADCmhT+roLbWkZbxgKLfPATFq6AGoDyG79KuvlgqSZBznuzKx80GIZZTy8GQVP8iEk/TCGUDgBy3Go/uqTLeeAkmnlNkCnuVFJ8MjF8JaZ4mPEx45jUjzy4jGpFhykgij/pp6D72OGuAQCNBI0HDUSiADvEfewDr7Q1rzrqGPmIAI8QSMMVduPFZ8iOWvffDbV1gXjXXML+Mm/efORfEaopOn1uOGh/hrpgEVtvBMZTPzxZbBVpUl3GDVnIVZBgFiFGnAEyYOgOIibMEE8f5+v4fMmvqpVeoopCXDKy8gVYMM3w2v3TgNqnRlON5Q7cXcBmPiSLDuEAcAMJp0+qqKF/VvIC8EYAsMvJSoa2ggQBJkHSii1Q9W2mV7SfgbR/L6G2CmTUdWylUSYzAgsxGWcpuFALC+pPIAkLHBgwYDzH7Zekqrse2Ns60qTBTSALGpm31LeypHC31jFEnpmrnL6mhvGmO1V9vN8Pw/0xU+lWsB0nUGcje2e2dxqh4BSL+N4vGMfS2ker9ae1S9upec/wXn6xeMB6MnpmrnL6mhvGmO1V9vN8Pw/0wJ6Zq5y+pobxpjtVfbzfD3f0x5zS2ker9ae1S/vKl5z/AAcfrF4xyltI3PWntUf7ypeQ/wAHH68YwHo6emaucvqaG8aY7VX2w3w939MCemescvqdnuaY7VX2wT7vd+cYy32Z+ztfasrU87IBTqErWg5VJDGHAnXTjj0X+yE6P2YghmPV1UmqEcyLgypme/AUiemescvqdnuaY7VX2wT7vd+cYE9NFYlfU7Pc0x2qvtgn3e631jGC27pIVa3WZwM70TCtUVbqwgLksDGnHjGItLaRKetPao/3lTirfBx+vGMB6MnporEr6mhc0x2qvtgn3e631jGr9HP28qdI1qtN6dJQlNHBQuSc3PMBbHh1LaRKetPao/3lTirfBx+vGMej+gqqG2jaIct6ilqzHiL7yjX+YwHofpE/4F/8XZx5HaaII+WNPjNekX/gX/xdn/6qjjS4AxXdNhTQfM5RYEsoJYXB3QtyeUYscVvTyqaDh85Ui4Qw5uICmRBnjIjmMBQumwErnd7u5XN1gJqFR1pIgQ+UuGBgqpq2ADQ5sO0bGlGu1Nn6taTNVa6MFC3EHKUbIFIMCxUzecRH2jYQUFSjUB6x1XMzMRUVc9bMc53gi1MzSc6q4ls+Vp3Q3U1Fq06VFlBplWFZ2JMjss2Z5UqVuCYBixBACT0e2zNSVqgS7VP1zU2YtnIczMagWERYQIjCtoGwTTzfo/6xcnY/WTuaWnNET7WWLxjvQW1KtBGZMmcs6jNUqllLEq7OwzSykNDXExww/tHSdAGnmkkuFQ5GsxkA6W5SNJ5ScBC2tXKVQCRs5NQOf70DM3WlJtkzZtd6M2X2cVUIu4TnHsuot9ePdi12yiTTqsSRQmp1lIMAWAZhUYMBIkhzlm/MSRisDhbKC9PgzW8JA/G2AHqmRcWJIae/kSkebA8iLS3O8CzAEG+aqyAm8Q6yVPIyQdD3vgtI3yVzcCRHLQrlPgwJ+QLdGQ65c5MkKaeQNxkTV3SeatHdgI4cSTE9q7EMQdbk7rHwmdQOIdatI3nhRE5e0thdL6fz4p3rjskBpHZkcsqsoXwkjx0McPBBW8EQzRCG1mm2XAWtTapC5Ns69CBubmfzyKJ8DBtxwUqoF0gDjma/+ZlH+ae/Cekmq5lNWjTpPA9cjZlb4bqIjWDPcTfDdCoSy65p1kwdNApDedp77jAP9YCJBHeWG5+2LzP7XjhbbQCRDUHECeoG95wTA88QzVm5NxO8RZfKN8eN+7DlXbM5HraVYAD9UmSPvSxnwnxAwD3WA+0CLTvhI+9VUCPDXHDUgkqyxpIdqqk8s53ifKOGGc8lSCSbZSoJb9lXEN+HLBtNZg7Zs5PxBQ8cjktH3b6YBb7SIAJmBwNMhT92mBl87+GEmqCZBHfBXWOJFWx8XnvGmGatfMBDBoWIzKSutiFVch7pJjXDdac0kkQBclgRu2gu1M+QI7h7wcIniBYyZFvHKJPgZB+YC6a5Lg+AEjgLtzOo7uGt+U6rKFmY3oBJHCJmMpbhAHdrcuo4YiZHcReLXnl9THngGP0ioxiJHOPyxa7J0nTpDIiEVHIVSbrmYhQWMg5QTJ7hhp0Ci39eUd2K8bJVquvVC6srBj2QVYMJ7pF8BsKfRlMDeUOx1dwGZvEkadwgDgBhCUuqqKo/VvIy8FYAsMvJSoaRpIEASZB0oi2qHq20h7An4G0fy84Nsdpk1XDZSqJOXMCCzERmym4UAsL6km0AEhYYMGDAfP8A6Va4HSdQZ43tntmcaoeAUi/14xjHUtpHq/WHtUvbq8c/wcfrxjGw9KtcDpSoM8b2z2zONUPBRF/64x9Lah6v1mrUfbq8c/w8e/XjgCltI9X6w9ql7dXjn+Dj9eMYtvsrsL7RVUU2LZOoqNFRuyCZO+ADrpx44qaO0j1frNWo+3V45/h49+vHHpvo06Oc0etZc1M0GKMCGkq0Gc8GPrgNhtFJdmouSkQlaCUQ6Q18pnHjv2l+042mvmV0CGpSK5OtScymxEG1tPnjU+k3pGitRaauy1RXUVFIKqAySoBQEEkRaYx53S2oSnrPao+3V4hvh4/XjgCjtIlPWntUfbqcQ3wcfrxjBS2oSnrT2qP95V4q3wcfrxjEvoqi9X9W2bqxSqP6yoIUBpNwJ8OPHEfOVKTU1eiP1lQ8G+Hj9eOARS2oSnrT2qP95V4q3wcfrxjHo/oLqhto2jfzeope051IvvKNceb0tqEp6z2qHt1eKt8PH68Yx6R6C6ubaNo383qKXtOdSL7wH864D0X0g/8ACeO0bJ/1lDGlxmvt7ehRX3tr2Rf/AJVI/wAMaXAGK7p3J1FTrEzpG8lt4Toc1oPfbFjit6eqKtCozKrKBdWJCm47RAMDnbAUB6Y2VCobZlG8yABKe6aWV2GtwCkggQSiDtFZe2LpWktKs9PZ1pLSpM5UoFmFzwYHZIK8OeGf7cKlY2ZWBYruiyqmTKy7l0cgBPianwkq90b0k70qxSklPLSYoAFKFoLTKaiTBHNTgLPobpEtSBdCrBnQqiGBkcoLKWCyADEnXXD20dIqpQZKhzOFEU3kEzvXGgvJ4CTiF0Ftr9QpFF2GZwuXqV3Q5CkgOEvzSQYnjiVW6SqAqBstU5nCm9LdB1YxUNhqdLaSYBCDtlIGnWrNHVK1QtSlsrBGZXnejMxUmIiTcE3xWo3GksIeBuw/gR8/PFhtiDJV2gkSjN6qBkZkbKoZYk1GAWG1usSImBTl95IQG+QaeR4fh4YAAuDOa5tvE+S5SI7gCe42GG0UFgMoK8VamasD/DESvgARy4YVlBIiGMmRDZT5FGWfuqe/CTqCxVADoXamvLtUxmVuAMRbywDIUaa2YggMABHAZWYDXtQRoTGrVcn2jwErYZxHC0Duth1SCCQBBmZIIPIhmEv97X8Q0/NZtEVDY0zAg2mAO68YDlc0ZUUevYBRNGt1nqhwK9ZcDuWRa2Fo05Qd6TuwogWFicrye7K34w9011vq+urUnGUZHpLDNPvDMZU8xCnkLYgpUAKzAEjMs6aQSWhcvK4/AgJPWWAN40PsjvT8reXB7atsLlSanXQq3NM08k8YI3p15Yry1r3HMndHhyYfX5HEjatpLMs1atSFWGq0+rdCfcXKMwPvX8TqAXVPGREKSTIBHOoASQv3YJ5C+OVKiywhQsnsBgmsdk3H8TphjPBUrYyIylQZ7joH7288LrnM7knQmczBm1iAws54RwFpwCqpLBd6yrE5y0a27IynhlXNEXM4VSqZSDaABEFRBK3JKFAWJ5n942w0xJyawFspLsNTwcQOFllRxnEtCS9ic3Ektbd0UmoxYx8X7PAgUlBiO1BtuiLe1Jk9ykCecaKqKAOHfqSTbUxp+GGhTsAOTHUctTmAHnJPgcO0XIuQGHvRDaDTu7zc8I1wDNPZn1kgcR+Y/h+GLPZ+mykUlpqWYhVYaZmIUMw4gTJgiwMYZO0oRCn9nDFLoqtWZWSFysrBm0lSGFhqLC3I4DVU+jqY7Sh2PadwGZvEkfQQBwAGEU6fVOqram8jLwVgCwy+6pUNI0kCAJMg6VRYFX1baQ2hPJG0fyvzANsdpk1HDZSqJOXMCGZiIzZTcKAWF7kk2AAJCwwYMGA+fvSrXjpSoM8b2z2zVBqh4KIv/XGOpbSPV+s1aj7dXjn+Hj3+eNj6Va8dKVBnA3tnEZqg1Q8FEX/rjHUtq/V+sF2o+3W45+7j3+eAf6LrhqtBes7VXZx26t5LcxBnvtzx7htOwGjs9Tq0JilXkuEsBeZBmRjzT0binVqvndjlpU2UKWO9mtm6wRlPdfG++31SrTp0xSpp6yq1N+sVRuMIOQobPpE2wHj+2dIF6gLuoYvRkK1UCSGsLd3542v2M+xi7Ts9PaXevlZDUU06oylqTFIIcZsuszc4uvsz9iAlMVahrdZkYkCojJNNoWM14g354k/bvpQ7JSRVVB1jvSmogJhhO6UNm5HTAXmxdC09nQqq1GGSqsuKbGzA6+eM16TtgJp0mVSoFZmNwtlF+xJPgcY37O7JW6QcFchFPqqz5HZSFBhjDa9w48caz7dbM+zbPQp01GUVXUtUjMVMk7yasJtNsB5bS2oSnrPao+3W4q3w8frxx6P6C62baNo3s3qaXtOdSPeA/nXHnFLa7p6wdqj7dbird3H68cb70O9LUqNTaatesiU1oUZZneBJAHb5nSLnAenfajf2jYKI47Qarfdo0ajT/wAxqQ8xjS4yv2eLbVXbbmVlpdX1Wyq4IY0ywepXKm69YRTABvlpg2zRjVYAxnOkttqmq9JEzoMkjq2MAgtmzzlJzBRlibzjR4znTdbaDVenRDEdUDAChZYVwZeQwaUSMvE35gIR6T28gDqQCSQdxwYlQCCMwU5CX3iIY5JJUlrTpZa+UNSZ56moMgCwamQFGJInMGEATFzINogtW6Qzjc3esaICT1eZcme+pXrM0RokRcGd+i1iuyb9QFLVgGF5oOsvM5yKmXmJMkGJAOdGvW6uy5hnfKarMj5MxySMhJtzgxE3nDlevtIKZaVIguA/rWsntMPVi41i86WmR3YKNZaSLmBYAhjUlmN7EkHWMFYbTKZTSjOM9m7F80X15d8cJwFbtZQdZVkfpSlxTW2YgE9WgT2lZQL67xII4V5HWS7sEbiIIE968/r44tdp7NSBU/SJfq+1PaPVwex1cZJ4a5rzirbX1pIq8Z7X9PpgDNJWRx7RFiARz3SPw7jhNFodYLZpsyMgPkzyp+7x5nHXcgBmgJPbuotxz51AP7SxzOOUgSVAGZTfsdYSOZSSCPik+JwDLMZOYkNvXkSZ4MVZQT4SD7pwxWBm8g29Xff7rXHgL4kUxEhQTAabQVHLKAerHw6d4xHqCBbS0udUsDIi/fAvgObVRRWHV7IdlJUFg4TK/PLlJBbvMMeIw0mqQWG9YycwNhFmVh45hPO0F/bKyuVy7X+lgASN31Z57gF+47w4k4ZWcyG7SYDRZrDdEKxJ/ZMcAQTARCYGigcZ0X738D/Il7ZVOZczbQd1YNcAVFtfJGq8zrPE4hVSANVEe8LL9/n3co4cHtsXKy5lrIMi2rsGqaeweFPmLX1A0wHeRMZYANiyke6FIGYfANeB44edCztYAAkAdXki/Gmf1f8AHjraMFJIJsoCm5ZQB72a5UfENOA5Pu+YsUO7cylQ1A1xPrGvUXvPdwwD5eyjejL2z1k8bL1hgAc6cKJw8KFxaBFhBkjKYygU1J/djvOG2WAog5ikhYdbXvLE5h3pAvpjtFpa0PNoAUiy3yhOsE+RPMLrgHqTEAZgSu8YgNoNTJhiPKO84dKl7juliZ5QCflA1w1TQPoJaDKgKWFrF4uo5Ekxwx0IFhhE8CvZm0gDj3nXAB2Di3118uX4+GJFHpqqhWmuV8zBFn2SxChjGoBMkamDfDH9og2bX5j/AG/DEml0HUqFXzhMpDqdbqQy6G6yBMajjgNDT6NpjVA5PadwGZvEkadwsNAAMIp0epdVW1N5GXgjAFhk91SqtI0kCAJMg6URYFSUaYhgYJ5I0Q/lfmAbY7Smo6vlKok5cwIZmIjNlN1ABYXuSTYAAkLDBgwYD5+9K1eOlKgzgb2ziM1Qaofdtf5c8Y+ltP6v1gu1H263HP3cY4+fDGw9K1YjpSoMwG9s9pqTdG921/lzxj6O0H1e+vao+1W45/x7/PhgL/7EdLilVuysHSkn943aJuM9gba/PHsdXZkroHCvlHWOsLSElSov3a4+faO0n1e+vao+1W45/wAe/wA+GNJ9m/tm9FVpnqCpVUB6uozE1CWMlvCx4ccB7VW2fterPZq+zS5r34pR9mwu1V9oy1JqKbTTyjqwiiF0XvjXGdo+kXZGo77HrnR1AWluZ6n6rUTBC35Yxu3/AGzq1Wgfo+Ryi/q6gaKgOaIsDa3LjgPWPtN0zR2VZqgqXNSmnq0ILmCoOXQW1x439oenF2jaWqqyBXqUCI61dUI7IECY0054qqNe6by9qjoa3EN/N/PBS2gym+vaoe1X4q349/ngCltd09YO1Q9utxVu7j/XHonoRy1K+0q+V1NClKnOwueIqCIP9ced0toMpvr2qHtV+Kt+P9cekegqrm2ivvA+opGxqHU67/8ADzwHoHQ1H9D2ttkW1CqjVtnXhTZWC1qKck36bqvCXAsBGqxmvtYclXYasxk2oIe9a1KpRj99k8wMaXAGM7t+zV3rNlMUxk7TbjCDKhIjNnynN3EeOixnOkNhrtXZw2RBkgmq8MIIKdWBlAzFTn1lYiL4CE3Re3FQGrAiTO+YynLZt2DFPMmhkgvul9y06R6PLBGCq7LSqJlaoyq2ZIy2mASBLASB8sVLdA7UFGfaTALFj1rwF3TlYMpzgIDTuQSBnnMzYtds2NGelekavVVFVXvnUqoYZdTTnJm8u7AK6D2J6dBFRqadpiFUFJZi3qwpAVLmBe0SSZJkV9nrkplrIAHBb1eq+0va1OndM3iDE6C2M9SMtaAXqt6oo679V3IzNT3oYm4A+mJdbo6oxUjaaoyuGNqe8B7NkFjoZm0xBggK3agnrKWVf0lmc02kZrljTfPqAqxbWEIAIia87kpUGZ+Jmb8Tm5/XFhtlQZKuzkXdn9b/AHal2zKXabVFzLC6khYIkRXqTTBVIcD2xdfl/HTxwC1UhlaZk2IEE+BDAkeYjmcMJBIJKgTo2bLPipL5vMjvOHUUZgV3mJvA18xmbyymPDCQxDqWkNzz9WYvq5sF7tT9MBHEHgAADA4HllzAkecN3jDdUXAjK1gtPUPpYjv5a3w6X1khpm+YHh72ZQ/He1PunDNQWI1SN5hcqIHZmL8YOAkdM9buGvSp0hlAXqmzEx7LbohRyuB7xxAyjMJC3O9pli2uYFT5g9/DDtdqMqaDV+wuZ6/WQy8AnWCfNd29sIpiMvsgGQC1xYb3aTL451nna4RW7MkwBxIsO5uZP0/B3bdlKsualUpLlUhKlTOxgaqZMKPdtGsDTAyyA7EhfZtY90d/Pz78Sdq2Eqy5qIogqpCCoXzQNQ3sxpGnjOAhUwSVAELKkZQs5uYndJ+9HxRpiXXZhUqWYtMsXyqwM6kJuhvu2OvcWKgzQLZbd4PMFVAJHNBfv44cLKrMBkIk5VQHIL8J3teehkDhgHm2eFU9kFZzFMs3NzLHOb6iBe68pMlmClTJAuwYs27Ng6OR+6RyjXER6ZXKSsSswFVQ1zvbrbxHvHKecTh/qVJAgQfYCqSTEkELTgHTVJ011wCurIChQT2oszCYvA0nmRPfyw9TfMYac1h3cNT7J/GRhmi1gGAAIPeTyzlTmI+Qtxvh2qoi1vAyOGhHHAPVNlA1H5f7+f0xHo9I1aTqlJgc7KuVrqCzBc0SCImbG8YbTaXWAQSp05jw5jFps/QnWAVBVuCGQi8MpDDMOUgSJFrWwF3T6OpjVA7HtO4DM3iSNO4WHAAYRTpdU6qtqbyuXgrAFgV91SoaRpIEASZP7VRYFSabaQQYJ5I0Q/lfmAbY7SJqOr5SqJOXMCGZiIzZTdQASL3JY2EAkLDBgwYD5/8ASrUI6UqDMBvbPqas9g+7b+HPhjG0qx9XvL2qPGt8f838+GPWft19hdt2nbXr0lpGmTRIzVHVoRSGsDGunPjjPU/Rf0kMu7RsaZPrqmi5s3HvET54DD0qx9XvL2qPGt8f838+GClWO5vL2qPGvyf+b+fDG4p+i/pIZd2hY0yfXVNFzZuPeI+uCn6L+khl3aFjTJ9dU0XNm494j64DD0qx3N5e1R41+If+b+eClVMpvL2qHGvxDfzfzxuKfov6SGXdoWNMn11TRQ2bj3iPrgp+i/pIZd2hY0yfXVNFBzce8R9cBh6VUym8vaoca/EN/N/PBSqmU3l7VDjX4q38388bin6L+khl3aFjTJ9dU0UHNx7xHPjjlP0X9JAru0bFCfXVdFBDce+3PjgMRSqmU3l7VDjX4q38388ekegqoTtFeSD6iloanMe//DzxXJ6L+kgRu0LGmf11XRQQ3Hmbc+ONj6MPshtWxVqr7QKYV6SIuSo7GViZDaD+TgNL9vbbPSb3dr2Rv/lUR/HGlxmvSF/wZPKvsh8P/V0L40uAMZjpDokPtD1GemtkIATNVIAKkMQ09VLA5Y1AM8MafGX6S2WkdoYvWAbcZUAXNIVlEsdRDMcs8J4HAQD9laahZ2hSFLMDlObRKhCZagsAsAQfVBE0WTc9IiiciPWCN1NQ7tnNPKAzg6qFmZ5nFEeitjCgjaZEk2y3M06sCIAJfLAOmdUWITLd9MV6IVVqM6r1NVs2SVCCnDFiwKZoMhTMwbETgF9B9HJ1CAPWKhqhUkPRaGqM0FAEIAmBI0uLHEjaeiUY0yXqgq4Yete5ANrtpEyBqJBsTiN9nqFJqClQMpaoR2AAS5zBRTYplnkT3kmcStq2GgTTzwIdSgzRLiSvG54x3YCv2yp6urSIHUs1QNWvlTOzFwRlglSxGacoIuQQRivpgi1Eyo9o2Y98cPH6DFjtdRhTqqQTQmpnqZRmVSxNVQM0kAlxmi3Jok1oUMCUJWmNA2sd5H4X88ByzHKBJJuQqmeNlysT5qe7Bs6nOAgLXvlVWYeCuAAdN4gRy4YUXmM0ZZ1OSDf5gHkde/TDKgErMZJgBkZwe7KkMx5LYd3DAcT2spYdrNPaPiEse+N0fUR6mosFa2VR2SYmWm0cwbazh1uRW4mFCwB4oVbJ4WjmDqlksSYZPaINzbsrqR3z/QJPS61pTr6tKqcsilSUrk+K7EnlmtPBRfEWiu8hMtvboGoNvdGa3ujxPPDu0UEGUpsjbMkCGIUMx+IKx+b38MdWlJEAMTxCzAtrmVgRPEqTgIzJAzP2rx+TDh3/AMNS9X2LKVmnRoqVUhaT5lc82sIPI6d51CygQSYZjxHZ8GFoHy8sLqbOCQfUKpAkUCCCeJqCLjkdMBEdiYyyBu3kqY4b7Dc7nG7ynCtqokO+bMJN8xDOZNszC0co7hh86qEXlBChvEqsnrPD8LYS+y7zQtpPsdWok8KbaE8j2rYCOrQFCrlBXtQmY3I1SSY03hmGhnDqAqwi8gDnIgwO2890GOQ4YRXVbXzHLeDTItNpUTbSHEi9zfDiOQwD7ogCLqezEMWCH5ydO3aQWAGAve+7q0xyUa+LGe4YVRbJ3jlqRpcTYeWvMThsEoAVsIb3gD3TN78vMzo+GLiRNtc0W0vNhfh4YCQwUiVuDx5+OK1doq06i9S0M7Kl7rvMFll4gTPA8sKWm6mVNuI4HzP4icW+xdHUqy5lciopDCblGBDLItmWQNIkSMBc0uj6Y1UMx7TOAWbxJ/DQcABhFOl1Tqq2R5GXgrAFgV90FVaRpIEASZ5/aqLAqzTbSCDBPJGAh/K/MA2wqlNV1fKVRJK5gQzMRGbKbqACRe5zGwgEhYYMGDAGDBgwBgwYMAYMGDAGDBgwBgwYMBmvSL/wL/4uz/8AVUcaXGZ9Ig/9DU7qmzk+A2miT9BjTYAxmOkup69usaoWlMqwwph8jAQwBl8mc8o8safGa6RqUVrsXpOztkXOSOrDZSQqjNIbIHObLzE3jAVLHo8BSC5MvAOaS+dcwJYSD105o9vrJ9rF90gq1OromkzK9KoASwVLoF6tiN6SCbhbQeMA046U2LKCmzuRLLZYAZWWic4DSQKq5JgwaZfsw5uelNvFJVY0gyilUecwEZUnIONxN+FteAM9FPQNFHqqily7r1rqxcFiesBYCzDKwECAVsNMOV22CaebqJ6xckZIzzCTFpzRE+1li8Yd6K6UU0lJQ04LpkCOcuRigtlBWQAQCBY4c2npWkCmYOZcKvqnsxkA3W2sSNJJMCSAg7YzhKhAJ2cGoai/3pAY9YEm2QnNYnNBOUjdGKvcbf7C+yoMgfmcWe2I4SrVW9JTULUJA6zKzZzmglczAnLMHjGYjFWaqsc9QDMdFWwHkNB3nALLkEEsIBMQQPOMyEeJYD6gtI4zAsQD/iGkAO9xOVfumTh32hDy0mwJAA5iCpXyPmLnDmyUnzAjOTrKdWzeINQlR4knunUhGopaZBEGL2I7izKQveTmPfcHjQSDmycng5R32FgPD8QMSFGYntTBJkkz8VSohAI7hM8sOrSZrgCsLa2zW0HIePy4kGKjIzDLth2ipAnsFB4dWAB5yeZw4giIhRNyW3SfNlBPgQPwxYbUlYhQ9GkqAWVWzMO4Sq6chOGqdMyN5l+Hj4SpDL8zgIW6o3YJ943XxcCRHhPdhyogqEE1aLWE9SIP7QBJYfzHHD/WZewMvxQWA7zMlz8/HC6wLkZ61OpbsqhQ/iT5EgYCEzoBYKRaSzBUH3jT7B+Z54TVGYmSrDQZahqDwFQxPgdL4niAwy5y4gDJAcf8wBSPphNY1JM5lJ99UzHxybreIM4CBUpyBvCAI7amOS7qq3fDacCbjEdsmbdM2jcyhdI7SuAPCV17PBrCqA0S2eB/7maPEFVZfO3eMdqU2md7TUlxw5s4PnnI7+GAr9mfQHKut5XNpAlu1/MDmVsApDAiR4nlN/y78crUiAJIFm1bu7xHyk+FgO0GndaTyOWOA1JI8rX8cBIXaRUHeNR/Ed2K6p1gqJ1TZXLqoblmYLJHECZI4xiRW2EgyDBHeT+EYs9gWlWBUAJWWGUngVIYMIjMuYCQT3YC7o9Hovshie0zAFm+8T+Gg0AAw0lLqnULZHkZOCsAWBUeyCA0gWkAgAkyN0siQKs025EEgn4GAh/K/MA2wqnNRw5UqiTlzCGZiIzZTdQASL3OY2EAkLDBgwYAwYMGAMGDBgDBgwYAwYMGAMGDBgM36Qx/9P2g8grfu1Eb+GNJjPekGnm6N2wctnqt+6jN/DF3s9TMisLyoPzE4B7GU6S2ykm0sDRptUIRS7EFwILDcIkU4UjNPaItfGrxnNu6W6uu1NaaycmYg78FSc7LlICDLlmdWGApf7e2chSux0gZIEhJECnSDKMsMsdWwuJpCmwmVXF70vtTqikU6TKaNVof3hTkLeFVCJBk6HhiuP2qqkCNngkkDeuOyoZQwBYEN1gAE5MswSQsnpjparTdVpupfqWqGmV1hKhBnV2LBYVdArk6jASfs/to6gRTgZ6ijqkhTlqMM2VWYLJmbm8+GJlfpMKUHVVTmcL2DaZ3vAceQk4Z6M21zSBytWGZwrp1YDKrEK0FlFxxFjE2kYdrdI1AUA2aqczBTenug6sYc2GvfoJMAhA2ui2SpXQjdaoRSJfIxRiN4BgMzMpOkSbgm+KypWYE9YCapucy9n6W7gMStv2inmqEV6a7TLmnROSWKNkQlCMzMdyG71i1i/sXR1Vbupk3JJBJPOxOAjbNQBIvJkmxb55cp+gjwInAUDEXDCfbpO8nnlW57pJJibDWVXObdyys+60E9wKEfIX79CqnSUcAItOd0HgSFHyEk8TgGkoG8oCBM5lyoO9gFYMe7h8sdKobsane6iLfCF3gPIeBxJSmgg5qaxozGw+6rH8YOJFNHJlagc82UQPAAiPIeeAr+po2KjaCY7VTr4//AG28hAw9kFva5Bl/ABXnE+otT2qqeAUrPnnJ+WGwjcKanvCgee8BOAjDrPZD0+8ISPEKFE+ajHaqlozVi3wtTy3/AHZ/HEjqanN08CG+QmPocdNEnWrVP3lAH+VVwESpRRYDRHAMjOp8AWn6YQuW4RAeYQMB5q0ED7s4mps6jslR91snzCi/ngcKdWY+JDDyCnNgIbM5gAgd2Z2PiA6hx5T4YZ6m+snUwQItxyBI88vjia2XTfjvNQT5VLfUY4En2GPeWJA8IZ48iMBWGkBoIseC/OSxIHeLcpN8Q9oQ+HO8k6a4uzQn2U/1efIHvJJxHqbKPh8lH0mbd+AqqG2zuMb8Dz7vH8cQ9posXQU2KuXVVYaqWYLm8pmOMYsdq2Qd/wCH+mMTejttWsOpeFqiDTc3llIZSZNyCBIm4wF5s/R6KNMxPaZoLN948fDQaAAWw3TpClUUJZKkjJwVgCwKj2QQrSBaYMAlieN0siQKs025EEgn4GAhh9eYBthVItUcOVKok5cwhmYiM2XVQFJAm5zGwgEhYYMGDAGDBgwBgwYMAYMGDAGDBgwBgwYMAxtezioj027LqVPgQQfxxTfYbaS+xUA5mpSXqan+JRJovP7SE+YxoMZjaejto2etUr7ItOotYhq1Co5SagUJ11JwrAMVVQykQcoMgzIafDaoASQACdTFzFhPPEPpms6UXZJzgCIAJmQLA2J8bYpWqbcCpVCQWObNk7AMIYzQHO7mAEZTUI3goIarBjPdCDaWzfpAYAqQIIU3Ck9gjezFwGABgDXtGsp9H7ajUjTLkhCxWpVqNT6xxXLI7FyciM1ECVckKIjeOA2mDFN0HR2haKrUYCoGqZixNQsOsbIcwyarFotYWjD+0JtEpken2xnlDdPaA3zfl3xNrEK6vsjnpGnUGy0CgosDtBI65WzGKajXJB1+I6aF/bOkg5KId0dphx7h3Yq+kOgqVWq9ZkqfpeWpSp1AagARmYpEHIECkT+0DcmbfY+gurAAqafD/vgO0hH86+E6j+hBjEhAdYPiBp5vEDwAw4myEe0PIMPwaMK/Rfu+OUT8zgG0YcCgPiXb564U1NW1DN5EfwAw9kb3z8h+WDqj77fJfywDFPZ1HZoqviFH+mcK6gnkvgzH8CuHuqPvt/l/8cHVfE30/LAM/op/9xh4E/8AcTjp2WfbqfOPwGHOp+Jvmcd6gc2/eb88Az+hjnP3lUn5xjv6L3J+5/vhzqBzb99vzx3qB3/vN+eAZ6huf+Zx/E4Q2zsTML5kH8UnEjqF90eeD9HT3F+QwEV9mbiJ/wA3+pgPphipsz+6fEkfwNsWP6OnuL8hjoor7q/IYDPbTs7cvwxQdI7A7MqrKlnVQ3ulmC5vKZ8sehBByGGNtoZ0KgwbFTyZSGUkcQGAtxwCNm2BEGmYkQztd3+8xufwGggYaSiKVRQlkeRkHZVgMwKj2QQGkC0wbEklSbfAh0dGGoCsw/ZZRDDlx5gaY7SJqOGKlUScuYQzMRGaNVAUkCbnMbCBIT8GDBgDBgwYAwYMGAMGDBgDBgwYAwYMGAMGDBgDBgwYAwYMGAMGDBgDBgwYAwYMGAMGDBgDBgwYAwYMGAMGDBgDBgwYAwYMGAMGDBgDBgwYAwYMGA//2Q==)"
      ],
      "metadata": {
        "id": "Pi-SRfFNZU8t"
      }
    },
    {
      "cell_type": "code",
      "source": [
        "criterion=nn.CrossEntropyLoss().to(device)"
      ],
      "metadata": {
        "id": "QgKKueuPNxip"
      },
      "execution_count": 11,
      "outputs": []
    },
    {
      "cell_type": "markdown",
      "source": [
        "크로스 엔트로피 손실함수를 이해하기 위해서는 우선 소프트맥스 함수에 대해 이해해야하는데, 선형 레이어의 경우 입력된 데이터를 X라고 할때 WX+b의 출력을 만들어낸다. W과 b는 각각 weight와 bias로 우리가 학습시킬 파라미터에 해당한다.\n",
        "우리는 모델을 통해 MNIST 손글씨 사진이 0-9의 숫자중에 가장 가능성이 높은 숫자를 판단해야하기에 입력으로 들어온 손글씨 데이터가 0-9일 확률을 각각 구한 뒤 가장 높은 확률의 숫자로 판단해야한다. 즉 요점은 0-9일 확률을 구해야한다는 건데 Linear을 통과한 데이터는 WX+b의 값을 띄기에 이를 확률데이터로 계산할 수 있도록 활성화 함수라는 것을 거친다. 대표적인 활성화함수인 sigmoid의 모양은 아래와 같다."
      ],
      "metadata": {
        "id": "FxScgI6xhl6n"
      }
    },
    {
      "cell_type": "markdown",
      "source": [
        "![sigmoid.png](data:image/png;base64,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)"
      ],
      "metadata": {
        "id": "DO3_VItMjIuJ"
      }
    },
    {
      "cell_type": "markdown",
      "source": [
        "이 sigmoid함수는 WX+b를 통해 나온 값들을 (0.0, 1.0)범위로 정규화해준다. 하지만 이 값 자체는 확률값이 아니다. 단순히 정규화된 값이기에 이를 실제 확률로서 계산하기위해서는 Linear을 통해 나온 0-9까지의 값들을 모두 더한뒤 각각의 값이 차지하는 값의 비율을 구해 실제 확률을 구한다. 이러한 작업을 하는 함수가 소프트맥스 함수이다. 아래의 함수는 시그모이드함수를 일반화하여 e^x꼴로 나타낸 소프트맥스함수이다."
      ],
      "metadata": {
        "id": "aC-FdX-kjK_T"
      }
    },
    {
      "cell_type": "markdown",
      "source": [
        "![softmax.png](data:image/png;base64,iVBORw0KGgoAAAANSUhEUgAAAUAAAACsBAAAAADq+sc6AAAABGdBTUEAALGPC/xhBQAAACBjSFJNAAB6JgAAgIQAAPoAAACA6AAAdTAAAOpgAAA6mAAAF3CculE8AAAAAmJLR0QADzoyPqMAAAAJcEhZcwAAFiUAABYlAUlSJPAAAAAHdElNRQfiARoMHw0vbQUlAAAJAElEQVR42u2cS2wbRRjHvyROmj7jSqXi0TSmPRQVQS3xLFSNW4FAqDQWEhekEpdyRUmRkLhlUQsItZItVCFujgCB4BJXBQnUQxJ6QHCx0wsIDmnSClUqkoPtON7Y3mEea3t3suuu9+UB9pOa2cfM7s/f7MzO/He+AhLcoNsAAWAA2G2AADAA7DZAAPjfAlReMzj47aI4gJcnDA6W7xcGUB4wPJxKiwI4OWF4uLJZEEA5ZHIinhYDcHqvyYnlPUIA1sNpkzNynxCApV7TU5GkCIAZ87aQ2mt6yjVA5XzkyRnu2K8j6BLszqp7sR2mhXObvAd878A5COVRKQIQyp4FOIHq52DoGgAMsgw1GG3krb6xP33paU3hYk/ea8Ay7oNTBKEMkEYKnEIoAbAt/HiU7BNbgyk1bz12+JeHIls1pdfUPB4CSmOEjTgrDhNI7ifH5qD3FKpFYTvNUWhCXMYVOg/aCq/AuMeAdZgllUhqagmG0RJ96EtAXm1LwF5wOZKFmExcWWhVOLYqDHkMWKZdSJg4SYZ+FJ9hgDsoD+TJ3jRL8EaI+nNKB7jV7MouAS7RZhijd43BN6xRlphfIkBxJfVW9fAw/nuj4U8VY9BjwOmBq9hiMIa3F2Dno1rASUiyhGUt0l8xR/xZO77LL8BJYHYIkSde9Y4KmMGthjqWZZVol5Ii9axcaXBBv8eAMe0zFNMD5qhfG4BKmLaZOEUrbmtgmA10XAPUVlEOdFW8ogOswDaKSX/RjRG/AMNaQAl0jWSFdXJxdivWv8isG8yM+eZBzWC+FgqzOm4CJhk2PZuhbaTIusHJZAPD60YS0wylbu6VaGNpAc4wwDxlovDTrBuMZv/cN+MLYAKyNP2NIMyU2P2arTjPEurWGN1jfaPSg15IjSDyIvK6o5bUl+lh/Fbox30x5VUBU+z5WmGAkR78Zy1KMauh8lScOLsKpkMxlwBzsIUkZfwOXh4mvKMtwDgbqK6yRzFCHoZ5qRfJmHPwfXR7EZE2M+oxYAl6iM8SafwvSdrAYBOwznoZDEGdHMG+qx9M9KM3cbY+dgr3PUmPAasAm7LoC/w+WCcToBqQOi5Rt65SdNL1jVB/4qfv+lR0sHKU1PqLrHgRFj0GxINVYviml2n7ANhD3Yo9KjXmlAnaEKbh3i93o0joFYyUeSk2QU/lBkwv7BagHMZ8m/LoGvScQOhtIGN+PB7su3CpL6tmWaAUq/hUElf0I3hbShaHFHI6td1zQHQ7Bk8t6g/hZ/C76BPpxm6FTTzO738LoY8PkO1YtjC0lsQbkSnvAQ2sxI2TozxGD1o5dB2TVvryQgDOc71xNYT+PvoM3ljokvTBA8q9ed1+ZRCt75zB7TuaFQMQpY4a5murYPoKKN+TN8p3OisKILpm5MJbJ9tdxEvA4oYhgHLRINv3bS/iJeA0DDi/iIeA5HWya0xgQHcsAPzfAN755HgaJ2dPOriWl4DVx6iuUjPXSLS2Aj7YkN6D6BYZnyvhXmEB62HivB95wJK2zFYr9N5UMbYEGfAqfBULBJghk32FH/kIBFggOmNtr1b3FMFagKukGa+Na3VPEawFuE6UxaUs0uieIlgLUCFyxXmy1dQ9rdnvU8oHiz4Aomg/Uh4mG03d05J9BmOXmR7oNeBkL6pQtKbuac2iF45Qkc9zwGnIL83SOzZ0T2Spm4EreWnUD8AbMPsqSZu6pzXAau8RFJ/yA7AAF6mG09Q9rQGuQRKFZ/0ALMMZ6oim7mnNCn2o1uMZnxZQBiZNNHVPa5bbgiqhTgrYBqwxnbmle1oz/LiWNlf9AFRUpb6pe1qz+ARa2f6pH4BoZ54mTd3TmuEGkhsY9wOwxmq4pXtaMtJASi4oCBYASxMsbeieYpgG8BxLmrqnGNYCrA6ztKF7CmItwOuz3WZpB3jl9frBbqO0A8Tz4dPpDkvGDOayWe8A4YFOS8YNAKe8AkSf7853WnKJW2fwcxy8GFjbV7eqwH1DrcfBg9mWA/lN4seHshuatIuAJehZ1B9JeTAudACoRPgP+TJb3yEKIJoDfulpYkIowArwHlseEQoQd4XD+gPVLWIBLgO/hPx5sQBrG94ddzoqvzH+pfqyq4C4K3RUpwbxL6dnXAUsg7ooxpYZxb/I/Hp6Z4BKFI7aL20Y/yKl3QRE8w7ebsbxL6ucCx0CymC+yP1uZhz/ojyYdRMQJWCPzZJm8S+pUVcBb0KbRTltzSz+paCX8J0C1sJslXTnZhb/IutDNxx/jk2B4Y3sx7/U9Z2/Y8Cy8VTJQfxLVNd4nH/QjqrLuvXYDuJfJnVV4hxwwQjQSfyLpPug6RxwzeBt5yj+JaNjcg44b9BIHMW/ZHShJo4BFaOgPUfxLyu66axjwKLRKgd78S/eACaMhjOTqhRyCHUS/4LQsSxqRk+4BCjzc2NqNuNfWB+txp+4BJgx/PpkM/4Fncm6DWgyJLEZ/8LMVcCbxuNVm/EvDcCke4DxUcPDNuNf/vjIbcAKt/AY/cUSe/EvlRjt83MudtTT/HD6HZbYi39Bc9s1v8ANwBrfRJT7WGov/gVJh+gv0MkVzqQPXt2qqI3RXvwLYh8xJd2Y3xFgbJw7MDfKUnvxL4jVelQXu+EEsMzPl5RwUt1K0Tddh/EvVQpT109ynACm+CYy3xz924p/WaPNR9aHDzkArOlDhBG6Da3uz078S3Gwhv8W9A+2A8AFbg3aT+H2Oshd41/Yh3tJPzyyD6hEn73ash8+PIYrq60Yd7f4F5QbGMOP4M6sS4Bl83Wn1gD5+BdUGsAHbnIfg+wDSgaA450AGse/8AqmbcCa0crddEeARvEvZb5n8PN/S7EQ/6I8xzP7CGgl/qWa5I/4CGgv/sU/QJvxL/+aaAhhLQAMANsYVVI0tu7Fii8HgJzajdaj7n8tduZBqqS07OuUaIC8rQSAnRlTUsQFVJUUcQGpklLQLnsTDZAoKeV9zJIiAm5YDi4aID9vFw2wuqGoYIBUSRH5GaRKisiteGMIhGCAVEnR2dxmO9fxDJAqKVr7KtL7rkiAPlkAGAB22wLAALDbFgAGgN22ADAA7Lb9A2VEyw4Sup77AAAAJXRFWHRkYXRlOmNyZWF0ZQAyMDE4LTAxLTI2VDEyOjMxOjEzKzA5OjAwmEwMPwAAACV0RVh0ZGF0ZTptb2RpZnkAMjAxOC0wMS0yNlQxMjozMToxMyswOTowMOkRtIMAAAAASUVORK5CYII=)"
      ],
      "metadata": {
        "id": "8toS9-afkfl1"
      }
    },
    {
      "cell_type": "markdown",
      "source": [
        "이렇게 도출된 확률에 log를 씌워 실제 label값과 곱한뒤 -를 위하면 크로스엔트로피 손실함수가 된다. 크로스엔트로피에 관한 자세한 설명은 실제 크로스엔트로피 수식을 놓고 설명하도록 하겠다. 아래의 그림이 크로스엔트로피 함수이며 k는 클래스의 개수, y는 실제 레이블, p는 (소프트맥스를 통하여 얻은)우리가 구한 확률이다."
      ],
      "metadata": {
        "id": "OeQ1o5bglh3B"
      }
    },
    {
      "cell_type": "markdown",
      "source": [
        "![crossentropyloss.PNG](data:image/png;base64,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)"
      ],
      "metadata": {
        "id": "yY9hB5R9lOIq"
      }
    },
    {
      "cell_type": "markdown",
      "source": [
        "우선 원-핫 벡터에 관한 개념부터 설명하겠다. 원-핫 벡터란 0과 1로만 이루어진 확률데이터로 일반적인 확률데이터 [0.1, 0.3, 0.6]을 원-핫 벡터로 만들면 가장 높은 확률을 가진것만 살려서 [0, 0, 1]가 된다. 고로 label데이터인 y역시 0부터 9까지의 값중 실제 답인 것을 표시하기 위해 원-핫 벡터를 사용하며 7이 답인 경우 [0, 0, 0, 0, 0, 0, 1, 0, 0, 0]가 레이블 데이터가 되게 된다. 우리가 소프트맥스를 통해 얻은 확률 데이터 p는 [0.0, 1.0]의 범위를 띄기 때문에 log없이 그냥 y과 곱해버리면 단순히 레이블에 대해 모델이 예측한 확률값에 불과하다. 문제는 우리는 오차율을 알기위해 손실함수를 사용하는 것인데 [0.0, 1.0]범위의 값은 손실값으로 사용하기에 너무 작은 값이라는 단점이 있다. 고로 로그함수가 (0.0, 1)부분에서 가파른 모양이라는 것을 이용해 확률에 log를 취한 값을 레이블과 곱해 손실값을 극대화시키려는 것이다. 로그함수 특성항 [0.0, 1.0]은 음수이기에 양숫값을 만들어주고자 -를 붙여 크로스엔트로피 함수가 탄생한다."
      ],
      "metadata": {
        "id": "huytAUyDmJ92"
      }
    },
    {
      "cell_type": "code",
      "source": [
        "optimizer=torch.optim.SGD(linear.parameters(), lr=0.1)"
      ],
      "metadata": {
        "id": "E8U6vGGun0lt"
      },
      "execution_count": 12,
      "outputs": []
    },
    {
      "cell_type": "markdown",
      "source": [
        "모델이 학습하게하는 방향은 오차(손실)값이 최소화되는 방향을 따르기에 손실함수의 값이 최소가 되는 지점 즉, 극솟값을 찾는것이 모델학습의 목표이다. 고로 손실함수를 미분해서 기울기가 낮은 방향으로 향하게하는데 이 때 사용하는 대표적인 방법이 Stochastic Gradient Descent(확률적 경사 하강법) SGD이다. 아래의 그림이 SGD에 대한 함수이다."
      ],
      "metadata": {
        "id": "z8SYEn1Vn06N"
      }
    },
    {
      "cell_type": "markdown",
      "source": [
        "![SGD.PNG](data:image/png;base64,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)"
      ],
      "metadata": {
        "id": "sYk6gXltonSy"
      }
    },
    {
      "cell_type": "markdown",
      "source": [
        "어려울것 없이 위 그림은 x=x-learning_rate * 손실함수미분값 인데\n",
        "미분값이 음수라면 극솟값에 가까워지기위해 x값을 오른쪽 방향으로 옮겨야함을 의미하고, 반대로 미분값이 양수라면 극솟값에 가까워지기위해 x값을 왼쪽 방향으로 옮겨야함을 의미한다. 고로 -를 붙여 전자의 경우엔 x값을 오른쪽으로, 후자의 경우엔 x값이 왼쪽으로 옮겨지게 한다. 이때 미분값에 곱해지는 learning_rate는 얼마나 옮길지의 폭을 정하는 것이다."
      ],
      "metadata": {
        "id": "Vs3Hgolxot1X"
      }
    },
    {
      "cell_type": "markdown",
      "source": [
        "[4. 데이터 학습시키기]"
      ],
      "metadata": {
        "id": "QP_hjkuNsHl7"
      }
    },
    {
      "cell_type": "code",
      "source": [
        "for epoch in range(training_epochs):\n",
        "  avg_cost=0#하나의 에포크동안의 평균 손실값\n",
        "  total_batch=len(data_loader)#batch단위로 data_loader가 로드한다. \n",
        "\n",
        "  for X,Y in data_loader:\n",
        "    X=X.view(-1, 28*28).to(device)#(28x28)손글씨 이미지의 모양을 (784)모양으로 바꿔준다.\n",
        "    Y=Y.to(device)#레이블 원-핫 벡터이다.\n",
        "\n",
        "    optimizer.zero_grad()#optimizer의 grad값을 0으로 초기화하는데, 그렇지 않으면 누적된 grad값이 사용된다.\n",
        "    hypothesis=linear(X)#입력 데이터를 784->10의 모양을 띄는 WX+b 선형 레이어에 적용\n",
        "    cost=criterion(hypothesis, Y)#실제 정답 데이터와 모델이 예측한 값 사이의 손실을 크로스엔트로피손실함수로 계산\n",
        "    cost.backward()#SGD를 사용하기 위해 손실함수의 미분값을 구한다. \n",
        "    optimizer.step()#모델의 파라미터들을 손실함수의 극솟값에 가까워지는 방향으로 옮긴다.\n",
        "\n",
        "    avg_cost+=cost/total_batch\n",
        "  print(\"Epoch: \", '%04d'%(epoch+1), 'cost =','{:.9f}'.format(avg_cost))#하나의 에포크가 끝난 뒤 평균 손실을 출력한다.\n",
        "print('Learning finished')"
      ],
      "metadata": {
        "colab": {
          "base_uri": "https://localhost:8080/"
        },
        "id": "cuHGxQE5N5R6",
        "outputId": "01cd2e23-86bd-4242-8e32-2ee6ba62b295"
      },
      "execution_count": 13,
      "outputs": [
        {
          "output_type": "stream",
          "name": "stdout",
          "text": [
            "Epoch:  0001 cost = 0.535129309\n",
            "Epoch:  0002 cost = 0.359102994\n",
            "Epoch:  0003 cost = 0.330750465\n",
            "Epoch:  0004 cost = 0.316363066\n",
            "Epoch:  0005 cost = 0.306801647\n",
            "Epoch:  0006 cost = 0.299948573\n",
            "Epoch:  0007 cost = 0.294957280\n",
            "Epoch:  0008 cost = 0.290448308\n",
            "Epoch:  0009 cost = 0.287277073\n",
            "Epoch:  0010 cost = 0.284266233\n",
            "Epoch:  0011 cost = 0.281752437\n",
            "Epoch:  0012 cost = 0.279395968\n",
            "Epoch:  0013 cost = 0.277582109\n",
            "Epoch:  0014 cost = 0.275780946\n",
            "Epoch:  0015 cost = 0.274262547\n",
            "Learning finished\n"
          ]
        }
      ]
    },
    {
      "cell_type": "markdown",
      "source": [
        "[5. 모델의 정확도를 산출하고, 테스트하기]"
      ],
      "metadata": {
        "id": "Pkfbe3ternEJ"
      }
    },
    {
      "cell_type": "code",
      "source": [
        "with torch.no_grad():#역전파과정을 위해 일반적으로 훈련시 모든 Tensor값의 grad를 마련해두는데, 테스트시에는 미분을 하지 않아 이 값이 필요없기에 비활성화하여 연산의 효율을 돕는다.\n",
        "  #1. 테스트데이터를 이용하여 모델 정확도 산출하기\n",
        "  X_test=mnist_test.test_data.view(-1, 28*28).float().to(device)#테스트데이터를 훈련시와 마찬가지로 모델 입력으로 사용하기 위해 784모양으로 바꿔준다.\n",
        "  Y_test=mnist_test.test_labels.to(device)\n",
        "\n",
        "  prediction=linear(X_test)#훈련된 Linear모델을 통과시켜 예측값을 얻는다.\n",
        "  correct_prediction=torch.argmax(prediction, 1)==Y_test#prediction된 값중 가장 큰 확률을 가지는 값을 1로 바꾼 뒤(원-핫 벡터로 만든 뒤) 레이블데이터와 비교한다.\n",
        "  accuracy=correct_prediction.float().mean()#모든 테스트데이터의 비교된 값들의 평균을 통해 정확도를 산출한다.\n",
        "  print('Accuracy: ', accuracy.item())\n",
        "\n",
        "  #2. 임의의 데이터로 모델 테스트하기\n",
        "  r=random.randint(0, len(mnist_test)-1)\n",
        "  X_single_data=mnist_test.test_data[r: r+1].view(-1, 28*28).float().to(device)\n",
        "  Y_single_data=mnist_test.test_labels[r:r+1].to(device)\n",
        "\n",
        "  print('Label: ', Y_single_data.item())\n",
        "  single_prediction=linear(X_single_data)\n",
        "  print('Prediction: ', torch.argmax(single_prediction, 1).item())\n",
        "\n",
        "  plt.imshow(mnist_test.test_data[r:r+1].view(28,28), cmap='Greys', interpolation='nearest')\n",
        "  plt.show()"
      ],
      "metadata": {
        "colab": {
          "base_uri": "https://localhost:8080/",
          "height": 394
        },
        "id": "W41x4-SHOnfe",
        "outputId": "1aa1d225-e5ce-4f38-d8b4-9db62f580332"
      },
      "execution_count": 14,
      "outputs": [
        {
          "output_type": "stream",
          "name": "stdout",
          "text": [
            "Accuracy:  0.8858999609947205\n",
            "Label:  2\n",
            "Prediction:  2\n"
          ]
        },
        {
          "output_type": "stream",
          "name": "stderr",
          "text": [
            "/usr/local/lib/python3.7/dist-packages/torchvision/datasets/mnist.py:80: UserWarning: test_data has been renamed data\n",
            "  warnings.warn(\"test_data has been renamed data\")\n",
            "/usr/local/lib/python3.7/dist-packages/torchvision/datasets/mnist.py:70: UserWarning: test_labels has been renamed targets\n",
            "  warnings.warn(\"test_labels has been renamed targets\")\n"
          ]
        },
        {
          "output_type": "display_data",
          "data": {
            "text/plain": [
              "<Figure size 432x288 with 1 Axes>"
            ],
            "image/png": "[encoded data removed]"
          },
          "metadata": {
            "needs_background": "light"
          }
        }
      ]
    },
    {
      "cell_type": "code",
      "source": [
        ""
      ],
      "metadata": {
        "id": "U9McLm_5PqzP"
      },
      "execution_count": 14,
      "outputs": []
    }
  ]
}